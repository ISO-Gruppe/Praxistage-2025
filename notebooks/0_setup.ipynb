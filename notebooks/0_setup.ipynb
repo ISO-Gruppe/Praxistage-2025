{
 "cells": [
  {
   "cell_type": "markdown",
   "metadata": {},
   "source": [
    "# Environment Setup\n",
    "\n",
    "This prelude notebook will guide you through setting up your Python environment.\n",
    "\n",
    "---\n",
    "\n",
    "### 1. Install Recommended Extensions\n",
    "\n",
    "You have two options to install the recommended extensions:\n",
    "\n",
    "#### a) Via Popup\n",
    "When you first open this project in VS Code, a popup will appear asking you to install the recommended extensions. Click the button to proceed with the installation.\n",
    "\n",
    "![](./media/setup/extensions_toast.png)\n",
    "\n",
    "#### b) Via the Extensions Tab\n",
    "1. Open the **Extensions** tab from the sidebar.\n",
    "2. Type `@recommended` into the search bar.\n",
    "3. Click the **Install** button for each recommended extension.\n",
    "\n",
    "![](./media/setup/extensions_tab.png)\n",
    "\n",
    "---\n",
    "\n",
    "### 2. Set Up the Python Interpreter\n",
    "\n",
    "1. Open a terminal at the root of the project.\n",
    "2. Run the following command to create a virtual environment and install the required Python packages:\n",
    "\n",
    "   ```bash\n",
    "   uv sync\n",
    "   ```\n",
    "\n",
    "---\n",
    "\n",
    "### 3. Reload VS Code\n",
    "\n",
    "1. Press `F1` to open the Command Palette.\n",
    "2. Type `Reload Window` and select **Developer: Reload Window** from the list.\n",
    "\n",
    "![](./media/setup/reload.png)\n",
    "\n",
    "---\n",
    "\n",
    "### 4. Execute Python Code\n",
    "\n",
    "You can run Python code cells in two ways:\n",
    "\n",
    "- **Click the Play Button**: Click the play button next to a code cell.\n",
    "- **Keyboard Shortcut**: Press `Shift + Enter`.\n",
    "\n",
    "![](./media/setup/play.png)\n",
    "\n",
    "If no interpreter is selected, a popup will prompt you to choose a kernel. Select the `.venv` kernel from the list.\n",
    "\n",
    "![](./media/setup/kernel.png)\n",
    "\n",
    "Once you have selected the kernel, you should be able to execute Python code cells in this notebook.\n",
    "\n",
    "If you encounter any issues, try restarting the notebook by clicking the **Restart** button in the toolbar.\n",
    "\n",
    "![](./media/setup/restart.png)"
   ]
  },
  {
   "cell_type": "code",
   "execution_count": null,
   "metadata": {},
   "outputs": [],
   "source": [
    "import sys\n",
    "\n",
    "print(f\"Hello from python {sys.version}\")"
   ]
  }
 ],
 "metadata": {
  "kernelspec": {
   "display_name": ".venv",
   "language": "python",
   "name": "python3"
  },
  "language_info": {
   "codemirror_mode": {
    "name": "ipython",
    "version": 3
   },
   "file_extension": ".py",
   "mimetype": "text/x-python",
   "name": "python",
   "nbconvert_exporter": "python",
   "pygments_lexer": "ipython3",
   "version": "3.12.7"
  }
 },
 "nbformat": 4,
 "nbformat_minor": 2
}
