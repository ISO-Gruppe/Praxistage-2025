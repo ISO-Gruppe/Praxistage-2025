{
 "cells": [
  {
   "cell_type": "markdown",
   "metadata": {},
   "source": [
    "# Semantic Search\n",
    "\n",
    "Semantic search retrieves information by understanding the meaning and context of queries using techniques like vector embeddings, enabling more accurate and relevant results beyond simple keyword matching."
   ]
  },
  {
   "cell_type": "markdown",
   "metadata": {},
   "source": [
    "## 1. Embeddings\n",
    "\n",
    "### 1.1 What are Embeddings?\n",
    "\n",
    "Embeddings are N-dimensional vector representations derived from text data. They capture the semantic meaning of the text, enabling similarity comparisons using distance metrics. These representations allow for efficient search and retrieval of relevant information based on textual relationships.\n",
    " \n",
    "\n",
    "![](../obsidian/Excalidraw/Embeddings.excalidraw.svg)\n",
    "\n",
    "\n",
    "### 1.2 Creating Embeddings with Ollama  \n",
    "\n",
    "Just like chat models, embedding models can be easily downloaded and hosted on our own hardware.  \n",
    "\n",
    "The following code snippet demonstrates how to generate embeddings using an Ollama embedding model.\n"
   ]
  },
  {
   "cell_type": "code",
   "execution_count": 1,
   "metadata": {},
   "outputs": [
    {
     "data": {
      "text/plain": [
       "ProgressResponse(status='success', completed=None, total=None, digest=None)"
      ]
     },
     "execution_count": 1,
     "metadata": {},
     "output_type": "execute_result"
    }
   ],
   "source": [
    "from ollama import Client\n",
    "\n",
    "# Download the embedding model\n",
    "MODEL = \"all-minilm:33m\"\n",
    "client = Client(host=\"http://localhost:11434\")\n",
    "client.pull(MODEL)"
   ]
  },
  {
   "cell_type": "code",
   "execution_count": 2,
   "metadata": {},
   "outputs": [
    {
     "name": "stdout",
     "output_type": "stream",
     "text": [
      "[-0.07589595, -0.0053512193, 0.011461193, -0.06798032, -0.0029048766, -0.18354985, 0.06604502, 0.029499538, -0.053219087, 0.08225615, -0.006884098, -0.04101772, 0.04589437, -0.028767489, -0.055228975, -0.023638006, 0.072114475, -0.027285244, -0.082989044, -0.079311885, -0.047613, 0.015250062, -0.10947498, -0.012752788, -0.03368992, -0.045844007, 0.023336934, 0.022760957, 0.07219826, -0.05898353, 0.013268217, 0.017745204, 0.12380466, 0.0014222985, -0.051148485, 0.0045865052, 0.038739294, -0.03258785, -0.011568591, 0.08333937, 0.019869013, 0.014589826, -0.033811476, 0.040321212, 0.029514974, -0.07878763, -0.006946654, -0.0368799, 0.035427053, -0.08134353, -0.0040645804, -0.052613374, 0.035524726, -0.0077684303, 0.07019797, -0.016511122, -0.010550486, 0.04372375, 0.01108922, -0.011595475, -0.025362503, 0.0069831894, 0.026311012, -0.080296054, 0.035118334, 0.017600162, 0.019714473, 0.043280464, -2.8306602e-05, -0.09367106, -0.029300535, 0.021673458, 0.059610147, -0.07154732, 0.032832302, 0.016780384, 0.045053113, 0.0132008195, -0.010176255, -0.013335963, 0.031461123, -0.08582849, 0.059542924, 0.06664436, 0.052206006, 0.013452098, 0.045796137, 0.06503359, 0.040831406, -0.0009677813, -0.08295268, -0.05039394, 0.052096676, 0.019375814, -0.027967308, 0.03148145, 0.042107, -0.020352108, -0.11610505, 0.2634546, -0.05731303, 0.027513118, -0.03017616, 0.08816947, -0.0147139365, 0.037188966, -0.029055838, 0.059356246, 0.050730266, -0.029477995, -0.04003232, 0.019763192, -0.04845373, 0.012486072, 0.00048920343, -0.065951504, 0.0331747, 0.049396623, -0.02158195, 0.040449232, 0.0057748943, -0.035047777, 0.023454154, -0.057578128, 0.02311079, -0.078664295, -0.014381282, 0.040342048, 0.05551886, 0.011985903, 0.0728608, 0.12387086, 0.0028384335, -0.032916933, 0.019449178, 0.0137859, 0.054679174, 0.0064730505, -0.025186382, -0.041561488, -0.008763698, 0.07812908, -0.011270184, 0.021594752, 0.0328505, -0.063786134, 0.051650453, 0.026185293, 0.025273418, 0.06623288, -0.04556679, 0.03128529, 0.038542267, 0.019009076, 0.074844696, -0.04570372, 0.02069264, 0.019351805, 0.0744268, 0.00020289348, -0.06895799, 0.023181578, -0.0063230675, -0.033809327, -0.0077150604, -0.023514925, -0.023065697, -0.06854903, -0.041676454, 0.035091873, 0.025630914, -0.052253064, -0.028363168, -0.034803126, 0.057131793, 0.01108758, -0.0015155601, 0.034766592, 0.022279538, -0.015885828, -0.079700164, 0.026532207, -0.010448806, 0.034893632, 0.0030946243, 0.03559037, -0.045154404, 0.01642913, -0.0028055925, 0.0583628, 0.04453731, 0.022863641, 0.031551763, -0.0027031263, 0.024261769, 0.022360522, 0.04550968, 0.0071717557, 0.031413857, -0.035113968, -0.054695785, 0.07069529, 0.058247015, 0.063044526, 0.18459661, -0.095803134, 0.004651443, 0.03247125, -0.0010234318, -0.031723596, -0.018180259, 0.03680876, -0.0031152414, -0.02660478, -0.04770485, -0.043055113, -0.07364986, 0.045682866, -0.06908932, 0.026550071, 0.024584651, -0.044141255, -0.04186088, 3.7700363e-33, 0.057692952, 0.045775793, -0.09033661, -0.07397484, -0.049448125, 0.013468074, -0.026759677, 0.06424941, -0.029178618, 0.07724526, 0.03157071, 0.0018982915, 0.020337252, -0.008840363, -0.0039377464, -0.025653148, 0.11306523, -0.0023702304, -0.06621041, 0.04581615, -0.032196213, -0.050963797, -0.040144354, -0.008286282, -0.03127659, 0.014901915, -0.042164523, 0.01498444, -0.0728087, 0.025761375, -0.016206564, 0.119522944, -0.040409293, 0.06996192, 0.02593253, 0.017266383, -0.112400115, -0.10999204, 0.018953688, -0.0066082105, -0.047184683, -0.026562944, -0.06072298, 0.06282293, -0.07783421, -0.0040292633, -0.08687456, 0.04299996, 0.044665914, -0.11853477, -0.022390218, -0.032566488, 0.018652093, -0.08065098, -0.122185655, 0.01782027, -0.051407203, -0.014534263, -0.016633151, -0.013211788, -0.019280717, 0.058370527, 0.08174972, 0.048963536, 0.06500107, 0.044517975, 0.09174045, 0.05050162, 0.02654055, -0.05892645, -0.08795321, 0.020337958, -0.01899026, 0.012067015, -0.021831749, 0.047478076, -0.024561124, -0.017585482, 0.016413154, -0.0031365878, 0.037044674, 0.075411536, 0.05443009, 0.033156227, 0.004821069, 0.029430065, 0.059581246, 0.03871228, -0.055925965, -0.041862275, -0.023933994, -0.0027858072, 0.01158591, 0.009075925, -0.037080206, -9.216874e-33, -0.109264076, -0.0074734613, 0.056352302, -0.027870659, 0.057028096, 0.086175375, 0.04525657, 0.012397494, -0.0683818, 0.03047991, -0.015872587, 0.072234355, -0.033392083, -0.06946973, -0.0135801695, 0.001518125, -0.094773866, 0.015416321, 0.055763267, -0.021850746, 0.05117096, 0.052428965, -0.033142783, 0.022155875, 0.08709447, -0.04075174, -0.0692982, -0.06777673, -0.039295588, -0.048293684, 0.04704902, 0.025160529, -0.081334256, 0.011622829, -0.04141572, -0.015624825, 0.01682588, -0.035047907, 0.06407728, -0.10810891, -0.018244762, 0.044603415, 0.062041447, -0.073254906, 0.040229462, 0.05485646, -0.0104605155, 0.005603414, 0.04559274, 0.006462989, -0.01818608, 0.036344048, 0.065501705, -0.0037936007, -0.012416455, -0.0032311063, -0.046187144, -0.020988744, -0.03710574, 0.059960436, -0.02352782, -0.051904812, -0.0112178195, 0.034935243]\n"
     ]
    }
   ],
   "source": [
    "# Generate embeddings for a given text\n",
    "result = client.embed(\n",
    "    model=MODEL,\n",
    "    input=\"Hello world\",\n",
    ")\n",
    "\n",
    "print(f\"{result.embeddings[0]}\")"
   ]
  },
  {
   "cell_type": "markdown",
   "metadata": {},
   "source": [
    "### 1.3 Calculating Similarities\n",
    "\n",
    "To determine how similar two sentences are, we compare the distance between their embeddings. A common approach is to use **cosine similarity**, which measures the cosine of the angle between two vectors:\n",
    "\n",
    "\n",
    "$\\text{Cosine Similarity} = \\cos(\\theta) = \\frac{\\mathbf{a} \\cdot \\mathbf{b}}{|\\mathbf{a}| |\\mathbf{b}|}$\n",
    "\n",
    "\n",
    "(An example implementation in Python is provided below.)\n",
    "\n",
    "Visualizing the **similarity matrix** can offer deeper insights into the relationships between sentences. This allows us to identify the most semantically relevant sentences based on their contextual meaning."
   ]
  },
  {
   "cell_type": "code",
   "execution_count": 3,
   "metadata": {},
   "outputs": [],
   "source": [
    "import numpy as np\n",
    "\n",
    "\n",
    "# Example function to calculate cosine similarity between multiple embeddings\n",
    "def cosine_similarity(embeddings: np.ndarray) -> np.ndarray:\n",
    "    \"\"\"\n",
    "    Calculate the cosine similarity between all pairs of embedding vectors in a 2D array.\n",
    "\n",
    "    Parameters:\n",
    "        embeddings (numpy.ndarray): 2D array where each row is an embedding.\n",
    "\n",
    "    Returns:\n",
    "        numpy.ndarray: 2D array of cosine similarities. The element at [i, j] is the cosine similarity between the ith and jth embeddings.\n",
    "    \"\"\"\n",
    "    # Calculate the Gram matrix (dot product of each pair of embeddings)\n",
    "    gram = np.dot(embeddings, embeddings.T)\n",
    "\n",
    "    # Calculate the norms of each embedding\n",
    "    norms = np.linalg.norm(embeddings, axis=1, keepdims=True)\n",
    "\n",
    "    # Avoid division by zero by ensuring norms are at least a small epsilon\n",
    "    epsilon = np.finfo(float).eps\n",
    "    norms += epsilon\n",
    "\n",
    "    # Compute the cosine similarity\n",
    "    similarity = gram / (norms * norms.T)\n",
    "\n",
    "    return similarity"
   ]
  },
  {
   "cell_type": "markdown",
   "metadata": {},
   "source": [
    "### 1.3.1 Visualizing Sentence Similarities  \n",
    "**a) Heatmaps**  \n",
    "\n",
    "One effective way to analyze sentence similarities is through **heatmaps**, which provide a clear visual representation of the similarity matrix."
   ]
  },
  {
   "cell_type": "code",
   "execution_count": 4,
   "metadata": {},
   "outputs": [
    {
     "data": {
      "application/vnd.plotly.v1+json": {
       "config": {
        "plotlyServerURL": "https://plot.ly"
       },
       "data": [
        {
         "coloraxis": "coloraxis",
         "hovertemplate": "Texts: %{x}<br>Texts: %{y}<br>Similarity: %{z}<extra></extra>",
         "name": "0",
         "type": "heatmap",
         "x": [
          "The cat sat on th...",
          "A feline perched ...",
          "The dog barked lo...",
          "A postal worker d...",
          "The sun sets in t...",
          "At dusk, the hori...",
          "She enjoys readin...",
          "At night, she imm...",
          "The train arrived...",
          "Passengers waited..."
         ],
         "xaxis": "x",
         "y": [
          "The cat sat on th...",
          "A feline perched ...",
          "The dog barked lo...",
          "A postal worker d...",
          "The sun sets in t...",
          "At dusk, the hori...",
          "She enjoys readin...",
          "At night, she imm...",
          "The train arrived...",
          "Passengers waited..."
         ],
         "yaxis": "y",
         "z": {
          "bdata": "+f//////7z/AAjHUWVTkP14Ib72kjLs/ru88SVIEuz9KsvpzAQ/GPyKZ6zm6esk/f2zndzL8vT+z+sr8krLAPw/9mXDdRaI/obUYH8EFpz/AAjHUWVTkP/z//////+8/RVcmDlPOzz+n4AgSrSjQP1XjD2XlHsY/AOe3vXZgyD+3asJi1a3HP0VLdvNFuMU/IWMKXUWeUr+pq0Y8PtK2P14Ib72kjLs/RVcmDlPOzz/6///////vP8XDPWxVX+U/e63eDcCEoD/tQlsfCROJvzgk1ZZWGrK/U3QA5mZMY7+/eOhJTcnLPwBTc/g50c0/ru88SVIEuz+n4AgSrSjQP8XDPWxVX+U/+///////7z9FsWSQSN+jv+e6yEF9sJc/z0Jzh2e2iz+H3aKDgXejP0uuA4cDlMs/hXPvwt/3zD9KsvpzAQ/GP1XjD2XlHsY/e63eDcCEoD9FsWSQSN+jv/v//////+8//AUAGnk04T9WZAKBWvPNP2Kvh0fzytA/HmXnAqKygb/Jg6mzxiytPyKZ6zm6esk/AOe3vXZgyD/tQlsfCROJv+e6yEF9sJc//AUAGnk04T/4///////vP2bRUntZU9I/Oef5nohr0z8itzLavNmiPxXonMpf6rA/f2zndzL8vT+3asJi1a3HPzgk1ZZWGrK/z0Jzh2e2iz9WZAKBWvPNP2bRUntZU9I//v//////7z98dNHMm7zmP38XeAJ2AbY/rRAXo625qr+z+sr8krLAP0VLdvNFuMU/U3QA5mZMY7+H3aKDgXejP2Kvh0fzytA/Oef5nohr0z98dNHMm7zmP////////+8/vEGCuk/Nk78MMxjUabydvw/9mXDdRaI/IWMKXUWeUr+/eOhJTcnLP0uuA4cDlMs/HmXnAqKygb8itzLavNmiP38XeAJ2AbY/vEGCuk/Nk7/+///////vPzCyKoU1D+E/obUYH8EFpz+pq0Y8PtK2PwBTc/g50c0/hXPvwt/3zD/Jg6mzxiytPxXonMpf6rA/rRAXo625qr8MMxjUabydvzCyKoU1D+E//f//////7z8=",
          "dtype": "f8",
          "shape": "10, 10"
         }
        }
       ],
       "layout": {
        "coloraxis": {
         "colorbar": {
          "title": {
           "text": "Similarity"
          }
         },
         "colorscale": [
          [
           0,
           "#0d0887"
          ],
          [
           0.1111111111111111,
           "#46039f"
          ],
          [
           0.2222222222222222,
           "#7201a8"
          ],
          [
           0.3333333333333333,
           "#9c179e"
          ],
          [
           0.4444444444444444,
           "#bd3786"
          ],
          [
           0.5555555555555556,
           "#d8576b"
          ],
          [
           0.6666666666666666,
           "#ed7953"
          ],
          [
           0.7777777777777778,
           "#fb9f3a"
          ],
          [
           0.8888888888888888,
           "#fdca26"
          ],
          [
           1,
           "#f0f921"
          ]
         ]
        },
        "margin": {
         "t": 60
        },
        "template": {
         "data": {
          "bar": [
           {
            "error_x": {
             "color": "#2a3f5f"
            },
            "error_y": {
             "color": "#2a3f5f"
            },
            "marker": {
             "line": {
              "color": "#E5ECF6",
              "width": 0.5
             },
             "pattern": {
              "fillmode": "overlay",
              "size": 10,
              "solidity": 0.2
             }
            },
            "type": "bar"
           }
          ],
          "barpolar": [
           {
            "marker": {
             "line": {
              "color": "#E5ECF6",
              "width": 0.5
             },
             "pattern": {
              "fillmode": "overlay",
              "size": 10,
              "solidity": 0.2
             }
            },
            "type": "barpolar"
           }
          ],
          "carpet": [
           {
            "aaxis": {
             "endlinecolor": "#2a3f5f",
             "gridcolor": "white",
             "linecolor": "white",
             "minorgridcolor": "white",
             "startlinecolor": "#2a3f5f"
            },
            "baxis": {
             "endlinecolor": "#2a3f5f",
             "gridcolor": "white",
             "linecolor": "white",
             "minorgridcolor": "white",
             "startlinecolor": "#2a3f5f"
            },
            "type": "carpet"
           }
          ],
          "choropleth": [
           {
            "colorbar": {
             "outlinewidth": 0,
             "ticks": ""
            },
            "type": "choropleth"
           }
          ],
          "contour": [
           {
            "colorbar": {
             "outlinewidth": 0,
             "ticks": ""
            },
            "colorscale": [
             [
              0,
              "#0d0887"
             ],
             [
              0.1111111111111111,
              "#46039f"
             ],
             [
              0.2222222222222222,
              "#7201a8"
             ],
             [
              0.3333333333333333,
              "#9c179e"
             ],
             [
              0.4444444444444444,
              "#bd3786"
             ],
             [
              0.5555555555555556,
              "#d8576b"
             ],
             [
              0.6666666666666666,
              "#ed7953"
             ],
             [
              0.7777777777777778,
              "#fb9f3a"
             ],
             [
              0.8888888888888888,
              "#fdca26"
             ],
             [
              1,
              "#f0f921"
             ]
            ],
            "type": "contour"
           }
          ],
          "contourcarpet": [
           {
            "colorbar": {
             "outlinewidth": 0,
             "ticks": ""
            },
            "type": "contourcarpet"
           }
          ],
          "heatmap": [
           {
            "colorbar": {
             "outlinewidth": 0,
             "ticks": ""
            },
            "colorscale": [
             [
              0,
              "#0d0887"
             ],
             [
              0.1111111111111111,
              "#46039f"
             ],
             [
              0.2222222222222222,
              "#7201a8"
             ],
             [
              0.3333333333333333,
              "#9c179e"
             ],
             [
              0.4444444444444444,
              "#bd3786"
             ],
             [
              0.5555555555555556,
              "#d8576b"
             ],
             [
              0.6666666666666666,
              "#ed7953"
             ],
             [
              0.7777777777777778,
              "#fb9f3a"
             ],
             [
              0.8888888888888888,
              "#fdca26"
             ],
             [
              1,
              "#f0f921"
             ]
            ],
            "type": "heatmap"
           }
          ],
          "histogram": [
           {
            "marker": {
             "pattern": {
              "fillmode": "overlay",
              "size": 10,
              "solidity": 0.2
             }
            },
            "type": "histogram"
           }
          ],
          "histogram2d": [
           {
            "colorbar": {
             "outlinewidth": 0,
             "ticks": ""
            },
            "colorscale": [
             [
              0,
              "#0d0887"
             ],
             [
              0.1111111111111111,
              "#46039f"
             ],
             [
              0.2222222222222222,
              "#7201a8"
             ],
             [
              0.3333333333333333,
              "#9c179e"
             ],
             [
              0.4444444444444444,
              "#bd3786"
             ],
             [
              0.5555555555555556,
              "#d8576b"
             ],
             [
              0.6666666666666666,
              "#ed7953"
             ],
             [
              0.7777777777777778,
              "#fb9f3a"
             ],
             [
              0.8888888888888888,
              "#fdca26"
             ],
             [
              1,
              "#f0f921"
             ]
            ],
            "type": "histogram2d"
           }
          ],
          "histogram2dcontour": [
           {
            "colorbar": {
             "outlinewidth": 0,
             "ticks": ""
            },
            "colorscale": [
             [
              0,
              "#0d0887"
             ],
             [
              0.1111111111111111,
              "#46039f"
             ],
             [
              0.2222222222222222,
              "#7201a8"
             ],
             [
              0.3333333333333333,
              "#9c179e"
             ],
             [
              0.4444444444444444,
              "#bd3786"
             ],
             [
              0.5555555555555556,
              "#d8576b"
             ],
             [
              0.6666666666666666,
              "#ed7953"
             ],
             [
              0.7777777777777778,
              "#fb9f3a"
             ],
             [
              0.8888888888888888,
              "#fdca26"
             ],
             [
              1,
              "#f0f921"
             ]
            ],
            "type": "histogram2dcontour"
           }
          ],
          "mesh3d": [
           {
            "colorbar": {
             "outlinewidth": 0,
             "ticks": ""
            },
            "type": "mesh3d"
           }
          ],
          "parcoords": [
           {
            "line": {
             "colorbar": {
              "outlinewidth": 0,
              "ticks": ""
             }
            },
            "type": "parcoords"
           }
          ],
          "pie": [
           {
            "automargin": true,
            "type": "pie"
           }
          ],
          "scatter": [
           {
            "fillpattern": {
             "fillmode": "overlay",
             "size": 10,
             "solidity": 0.2
            },
            "type": "scatter"
           }
          ],
          "scatter3d": [
           {
            "line": {
             "colorbar": {
              "outlinewidth": 0,
              "ticks": ""
             }
            },
            "marker": {
             "colorbar": {
              "outlinewidth": 0,
              "ticks": ""
             }
            },
            "type": "scatter3d"
           }
          ],
          "scattercarpet": [
           {
            "marker": {
             "colorbar": {
              "outlinewidth": 0,
              "ticks": ""
             }
            },
            "type": "scattercarpet"
           }
          ],
          "scattergeo": [
           {
            "marker": {
             "colorbar": {
              "outlinewidth": 0,
              "ticks": ""
             }
            },
            "type": "scattergeo"
           }
          ],
          "scattergl": [
           {
            "marker": {
             "colorbar": {
              "outlinewidth": 0,
              "ticks": ""
             }
            },
            "type": "scattergl"
           }
          ],
          "scattermap": [
           {
            "marker": {
             "colorbar": {
              "outlinewidth": 0,
              "ticks": ""
             }
            },
            "type": "scattermap"
           }
          ],
          "scattermapbox": [
           {
            "marker": {
             "colorbar": {
              "outlinewidth": 0,
              "ticks": ""
             }
            },
            "type": "scattermapbox"
           }
          ],
          "scatterpolar": [
           {
            "marker": {
             "colorbar": {
              "outlinewidth": 0,
              "ticks": ""
             }
            },
            "type": "scatterpolar"
           }
          ],
          "scatterpolargl": [
           {
            "marker": {
             "colorbar": {
              "outlinewidth": 0,
              "ticks": ""
             }
            },
            "type": "scatterpolargl"
           }
          ],
          "scatterternary": [
           {
            "marker": {
             "colorbar": {
              "outlinewidth": 0,
              "ticks": ""
             }
            },
            "type": "scatterternary"
           }
          ],
          "surface": [
           {
            "colorbar": {
             "outlinewidth": 0,
             "ticks": ""
            },
            "colorscale": [
             [
              0,
              "#0d0887"
             ],
             [
              0.1111111111111111,
              "#46039f"
             ],
             [
              0.2222222222222222,
              "#7201a8"
             ],
             [
              0.3333333333333333,
              "#9c179e"
             ],
             [
              0.4444444444444444,
              "#bd3786"
             ],
             [
              0.5555555555555556,
              "#d8576b"
             ],
             [
              0.6666666666666666,
              "#ed7953"
             ],
             [
              0.7777777777777778,
              "#fb9f3a"
             ],
             [
              0.8888888888888888,
              "#fdca26"
             ],
             [
              1,
              "#f0f921"
             ]
            ],
            "type": "surface"
           }
          ],
          "table": [
           {
            "cells": {
             "fill": {
              "color": "#EBF0F8"
             },
             "line": {
              "color": "white"
             }
            },
            "header": {
             "fill": {
              "color": "#C8D4E3"
             },
             "line": {
              "color": "white"
             }
            },
            "type": "table"
           }
          ]
         },
         "layout": {
          "annotationdefaults": {
           "arrowcolor": "#2a3f5f",
           "arrowhead": 0,
           "arrowwidth": 1
          },
          "autotypenumbers": "strict",
          "coloraxis": {
           "colorbar": {
            "outlinewidth": 0,
            "ticks": ""
           }
          },
          "colorscale": {
           "diverging": [
            [
             0,
             "#8e0152"
            ],
            [
             0.1,
             "#c51b7d"
            ],
            [
             0.2,
             "#de77ae"
            ],
            [
             0.3,
             "#f1b6da"
            ],
            [
             0.4,
             "#fde0ef"
            ],
            [
             0.5,
             "#f7f7f7"
            ],
            [
             0.6,
             "#e6f5d0"
            ],
            [
             0.7,
             "#b8e186"
            ],
            [
             0.8,
             "#7fbc41"
            ],
            [
             0.9,
             "#4d9221"
            ],
            [
             1,
             "#276419"
            ]
           ],
           "sequential": [
            [
             0,
             "#0d0887"
            ],
            [
             0.1111111111111111,
             "#46039f"
            ],
            [
             0.2222222222222222,
             "#7201a8"
            ],
            [
             0.3333333333333333,
             "#9c179e"
            ],
            [
             0.4444444444444444,
             "#bd3786"
            ],
            [
             0.5555555555555556,
             "#d8576b"
            ],
            [
             0.6666666666666666,
             "#ed7953"
            ],
            [
             0.7777777777777778,
             "#fb9f3a"
            ],
            [
             0.8888888888888888,
             "#fdca26"
            ],
            [
             1,
             "#f0f921"
            ]
           ],
           "sequentialminus": [
            [
             0,
             "#0d0887"
            ],
            [
             0.1111111111111111,
             "#46039f"
            ],
            [
             0.2222222222222222,
             "#7201a8"
            ],
            [
             0.3333333333333333,
             "#9c179e"
            ],
            [
             0.4444444444444444,
             "#bd3786"
            ],
            [
             0.5555555555555556,
             "#d8576b"
            ],
            [
             0.6666666666666666,
             "#ed7953"
            ],
            [
             0.7777777777777778,
             "#fb9f3a"
            ],
            [
             0.8888888888888888,
             "#fdca26"
            ],
            [
             1,
             "#f0f921"
            ]
           ]
          },
          "colorway": [
           "#636efa",
           "#EF553B",
           "#00cc96",
           "#ab63fa",
           "#FFA15A",
           "#19d3f3",
           "#FF6692",
           "#B6E880",
           "#FF97FF",
           "#FECB52"
          ],
          "font": {
           "color": "#2a3f5f"
          },
          "geo": {
           "bgcolor": "white",
           "lakecolor": "white",
           "landcolor": "#E5ECF6",
           "showlakes": true,
           "showland": true,
           "subunitcolor": "white"
          },
          "hoverlabel": {
           "align": "left"
          },
          "hovermode": "closest",
          "mapbox": {
           "style": "light"
          },
          "paper_bgcolor": "white",
          "plot_bgcolor": "#E5ECF6",
          "polar": {
           "angularaxis": {
            "gridcolor": "white",
            "linecolor": "white",
            "ticks": ""
           },
           "bgcolor": "#E5ECF6",
           "radialaxis": {
            "gridcolor": "white",
            "linecolor": "white",
            "ticks": ""
           }
          },
          "scene": {
           "xaxis": {
            "backgroundcolor": "#E5ECF6",
            "gridcolor": "white",
            "gridwidth": 2,
            "linecolor": "white",
            "showbackground": true,
            "ticks": "",
            "zerolinecolor": "white"
           },
           "yaxis": {
            "backgroundcolor": "#E5ECF6",
            "gridcolor": "white",
            "gridwidth": 2,
            "linecolor": "white",
            "showbackground": true,
            "ticks": "",
            "zerolinecolor": "white"
           },
           "zaxis": {
            "backgroundcolor": "#E5ECF6",
            "gridcolor": "white",
            "gridwidth": 2,
            "linecolor": "white",
            "showbackground": true,
            "ticks": "",
            "zerolinecolor": "white"
           }
          },
          "shapedefaults": {
           "line": {
            "color": "#2a3f5f"
           }
          },
          "ternary": {
           "aaxis": {
            "gridcolor": "white",
            "linecolor": "white",
            "ticks": ""
           },
           "baxis": {
            "gridcolor": "white",
            "linecolor": "white",
            "ticks": ""
           },
           "bgcolor": "#E5ECF6",
           "caxis": {
            "gridcolor": "white",
            "linecolor": "white",
            "ticks": ""
           }
          },
          "title": {
           "x": 0.05
          },
          "xaxis": {
           "automargin": true,
           "gridcolor": "white",
           "linecolor": "white",
           "ticks": "",
           "title": {
            "standoff": 15
           },
           "zerolinecolor": "white",
           "zerolinewidth": 2
          },
          "yaxis": {
           "automargin": true,
           "gridcolor": "white",
           "linecolor": "white",
           "ticks": "",
           "title": {
            "standoff": 15
           },
           "zerolinecolor": "white",
           "zerolinewidth": 2
          }
         }
        },
        "xaxis": {
         "anchor": "y",
         "constrain": "domain",
         "domain": [
          0,
          1
         ],
         "scaleanchor": "y",
         "side": "top",
         "tickangle": 45,
         "title": {
          "text": "Texts"
         }
        },
        "yaxis": {
         "anchor": "x",
         "autorange": "reversed",
         "constrain": "domain",
         "domain": [
          0,
          1
         ],
         "tickangle": -45,
         "title": {
          "text": "Texts"
         }
        }
       }
      }
     },
     "metadata": {},
     "output_type": "display_data"
    }
   ],
   "source": [
    "from utils import bulk_embed, plot_similarity_heatmap\n",
    "\n",
    "\n",
    "example_sentences = [\n",
    "    \"The cat sat on the windowsill, watching the birds outside.\",\n",
    "    \"A feline perched by the window, observing the chirping sparrows.\",\n",
    "    \"The dog barked loudly when the mailman arrived.\",\n",
    "    \"A postal worker delivered letters while a nearby canine growled.\",\n",
    "    \"The sun sets in the evening, painting the sky orange and red.\",\n",
    "    \"At dusk, the horizon glows with vibrant shades of crimson and gold.\",\n",
    "    \"She enjoys reading mystery novels late at night.\",\n",
    "    \"At night, she immerses herself in thrilling detective stories.\",\n",
    "    \"The train arrived at the station five minutes late.\",\n",
    "    \"Passengers waited patiently as the delayed locomotive approached.\",\n",
    "]\n",
    "\n",
    "embeddings = bulk_embed(MODEL, example_sentences, client)\n",
    "\n",
    "\n",
    "similarities = cosine_similarity(embeddings)\n",
    "\n",
    "plot_similarity_heatmap(similarities, texts=example_sentences, limit=20)"
   ]
  },
  {
   "cell_type": "markdown",
   "metadata": {},
   "source": [
    "**b) 3D-Plots**\n",
    "\n",
    "Another powerful method for visualizing sentence similarities is **3D plots**, which offer a more dynamic perspective on the relationships between sentence embeddings."
   ]
  },
  {
   "cell_type": "code",
   "execution_count": 5,
   "metadata": {},
   "outputs": [
    {
     "data": {
      "application/vnd.plotly.v1+json": {
       "config": {
        "plotlyServerURL": "https://plot.ly"
       },
       "data": [
        {
         "customdata": [
          [
           "The cat sat on the windowsill, watching the birds outside."
          ]
         ],
         "hovertemplate": "text=%{customdata[0]}<br>x=%{x}<br>y=%{y}<br>z=%{z}<extra></extra>",
         "legendgroup": "The cat sat on the windowsill, watching the birds outside.",
         "marker": {
          "color": "#636efa",
          "symbol": "circle"
         },
         "mode": "markers",
         "name": "The cat sat on the windowsill, watching the birds outside.",
         "scene": "scene",
         "showlegend": true,
         "type": "scatter3d",
         "x": {
          "bdata": "81hl9uA4/78=",
          "dtype": "f8"
         },
         "y": {
          "bdata": "tntd1cK8KcA=",
          "dtype": "f8"
         },
         "z": {
          "bdata": "WS0dDWtGHcA=",
          "dtype": "f8"
         }
        },
        {
         "customdata": [
          [
           "A feline perched by the window, observing the chirping sparrows."
          ]
         ],
         "hovertemplate": "text=%{customdata[0]}<br>x=%{x}<br>y=%{y}<br>z=%{z}<extra></extra>",
         "legendgroup": "A feline perched by the window, observing the chirping sparrows.",
         "marker": {
          "color": "#EF553B",
          "symbol": "circle"
         },
         "mode": "markers",
         "name": "A feline perched by the window, observing the chirping sparrows.",
         "scene": "scene",
         "showlegend": true,
         "type": "scatter3d",
         "x": {
          "bdata": "rfcw/f75vz8=",
          "dtype": "f8"
         },
         "y": {
          "bdata": "paEha/EnLMA=",
          "dtype": "f8"
         },
         "z": {
          "bdata": "OMWWIaZKBsA=",
          "dtype": "f8"
         }
        },
        {
         "customdata": [
          [
           "The dog barked loudly when the mailman arrived."
          ]
         ],
         "hovertemplate": "text=%{customdata[0]}<br>x=%{x}<br>y=%{y}<br>z=%{z}<extra></extra>",
         "legendgroup": "The dog barked loudly when the mailman arrived.",
         "marker": {
          "color": "#00cc96",
          "symbol": "circle"
         },
         "mode": "markers",
         "name": "The dog barked loudly when the mailman arrived.",
         "scene": "scene",
         "showlegend": true,
         "type": "scatter3d",
         "x": {
          "bdata": "97O2DwfrKUA=",
          "dtype": "f8"
         },
         "y": {
          "bdata": "RO6Xg3jTCMA=",
          "dtype": "f8"
         },
         "z": {
          "bdata": "tBAPsECnEUA=",
          "dtype": "f8"
         }
        },
        {
         "customdata": [
          [
           "A postal worker delivered letters while a nearby canine growled."
          ]
         ],
         "hovertemplate": "text=%{customdata[0]}<br>x=%{x}<br>y=%{y}<br>z=%{z}<extra></extra>",
         "legendgroup": "A postal worker delivered letters while a nearby canine growled.",
         "marker": {
          "color": "#ab63fa",
          "symbol": "circle"
         },
         "mode": "markers",
         "name": "A postal worker delivered letters while a nearby canine growled.",
         "scene": "scene",
         "showlegend": true,
         "type": "scatter3d",
         "x": {
          "bdata": "qNPzlBPYJkA=",
          "dtype": "f8"
         },
         "y": {
          "bdata": "dbD+Kri/EMA=",
          "dtype": "f8"
         },
         "z": {
          "bdata": "fmpI4VXBHUA=",
          "dtype": "f8"
         }
        },
        {
         "customdata": [
          [
           "The sun sets in the evening, painting the sky orange and red."
          ]
         ],
         "hovertemplate": "text=%{customdata[0]}<br>x=%{x}<br>y=%{y}<br>z=%{z}<extra></extra>",
         "legendgroup": "The sun sets in the evening, painting the sky orange and red.",
         "marker": {
          "color": "#FFA15A",
          "symbol": "circle"
         },
         "mode": "markers",
         "name": "The sun sets in the evening, painting the sky orange and red.",
         "scene": "scene",
         "showlegend": true,
         "type": "scatter3d",
         "x": {
          "bdata": "rTOe4ZBbIcA=",
          "dtype": "f8"
         },
         "y": {
          "bdata": "ntORackpE0A=",
          "dtype": "f8"
         },
         "z": {
          "bdata": "5eF5g9oyI8A=",
          "dtype": "f8"
         }
        },
        {
         "customdata": [
          [
           "At dusk, the horizon glows with vibrant shades of crimson and gold."
          ]
         ],
         "hovertemplate": "text=%{customdata[0]}<br>x=%{x}<br>y=%{y}<br>z=%{z}<extra></extra>",
         "legendgroup": "At dusk, the horizon glows with vibrant shades of crimson and gold.",
         "marker": {
          "color": "#19d3f3",
          "symbol": "circle"
         },
         "mode": "markers",
         "name": "At dusk, the horizon glows with vibrant shades of crimson and gold.",
         "scene": "scene",
         "showlegend": true,
         "type": "scatter3d",
         "x": {
          "bdata": "SqmDcaAMI8A=",
          "dtype": "f8"
         },
         "y": {
          "bdata": "QdRM8zLJD0A=",
          "dtype": "f8"
         },
         "z": {
          "bdata": "dEp6+vx+IMA=",
          "dtype": "f8"
         }
        },
        {
         "customdata": [
          [
           "She enjoys reading mystery novels late at night."
          ]
         ],
         "hovertemplate": "text=%{customdata[0]}<br>x=%{x}<br>y=%{y}<br>z=%{z}<extra></extra>",
         "legendgroup": "She enjoys reading mystery novels late at night.",
         "marker": {
          "color": "#FF6692",
          "symbol": "circle"
         },
         "mode": "markers",
         "name": "She enjoys reading mystery novels late at night.",
         "scene": "scene",
         "showlegend": true,
         "type": "scatter3d",
         "x": {
          "bdata": "vBbiyx5vJcA=",
          "dtype": "f8"
         },
         "y": {
          "bdata": "eXKveiMHA0A=",
          "dtype": "f8"
         },
         "z": {
          "bdata": "y7jvpM11J0A=",
          "dtype": "f8"
         }
        },
        {
         "customdata": [
          [
           "At night, she immerses herself in thrilling detective stories."
          ]
         ],
         "hovertemplate": "text=%{customdata[0]}<br>x=%{x}<br>y=%{y}<br>z=%{z}<extra></extra>",
         "legendgroup": "At night, she immerses herself in thrilling detective stories.",
         "marker": {
          "color": "#B6E880",
          "symbol": "circle"
         },
         "mode": "markers",
         "name": "At night, she immerses herself in thrilling detective stories.",
         "scene": "scene",
         "showlegend": true,
         "type": "scatter3d",
         "x": {
          "bdata": "PVVTPR17KMA=",
          "dtype": "f8"
         },
         "y": {
          "bdata": "OtzVyUsy/j8=",
          "dtype": "f8"
         },
         "z": {
          "bdata": "ZLnIz6oqJUA=",
          "dtype": "f8"
         }
        },
        {
         "customdata": [
          [
           "The train arrived at the station five minutes late."
          ]
         ],
         "hovertemplate": "text=%{customdata[0]}<br>x=%{x}<br>y=%{y}<br>z=%{z}<extra></extra>",
         "legendgroup": "The train arrived at the station five minutes late.",
         "marker": {
          "color": "#FF97FF",
          "symbol": "circle"
         },
         "mode": "markers",
         "name": "The train arrived at the station five minutes late.",
         "scene": "scene",
         "showlegend": true,
         "type": "scatter3d",
         "x": {
          "bdata": "o1rxWgtDIEA=",
          "dtype": "f8"
         },
         "y": {
          "bdata": "cdJY1U8gKUA=",
          "dtype": "f8"
         },
         "z": {
          "bdata": "S3JBP3w58L8=",
          "dtype": "f8"
         }
        },
        {
         "customdata": [
          [
           "Passengers waited patiently as the delayed locomotive approached."
          ]
         ],
         "hovertemplate": "text=%{customdata[0]}<br>x=%{x}<br>y=%{y}<br>z=%{z}<extra></extra>",
         "legendgroup": "Passengers waited patiently as the delayed locomotive approached.",
         "marker": {
          "color": "#FECB52",
          "symbol": "circle"
         },
         "mode": "markers",
         "name": "Passengers waited patiently as the delayed locomotive approached.",
         "scene": "scene",
         "showlegend": true,
         "type": "scatter3d",
         "x": {
          "bdata": "56+NfW/zJEA=",
          "dtype": "f8"
         },
         "y": {
          "bdata": "tucI2NpJIUA=",
          "dtype": "f8"
         },
         "z": {
          "bdata": "XhonUbvLFMA=",
          "dtype": "f8"
         }
        }
       ],
       "layout": {
        "legend": {
         "title": {
          "text": "text"
         },
         "tracegroupgap": 0
        },
        "margin": {
         "b": 2,
         "l": 2,
         "r": 2,
         "t": 2
        },
        "scene": {
         "domain": {
          "x": [
           0,
           1
          ],
          "y": [
           0,
           1
          ]
         },
         "xaxis": {
          "backgroundcolor": "rgba(0, 0, 0, 0)",
          "gridcolor": "rgb(100, 100, 100)",
          "showbackground": true,
          "title": {
           "text": "x"
          },
          "zeroline": false
         },
         "yaxis": {
          "backgroundcolor": "rgba(0, 0, 0, 0)",
          "gridcolor": "rgb(100, 100, 100)",
          "showbackground": true,
          "title": {
           "text": "y"
          },
          "zeroline": false
         },
         "zaxis": {
          "backgroundcolor": "rgba(0, 0, 0, 0)",
          "gridcolor": "rgb(100, 100, 100)",
          "showbackground": true,
          "title": {
           "text": "z"
          },
          "zeroline": false
         }
        },
        "template": {
         "data": {
          "scatter": [
           {
            "type": "scatter"
           }
          ]
         }
        },
        "title": {
         "text": "3D PCA Visualization"
        }
       }
      }
     },
     "metadata": {},
     "output_type": "display_data"
    }
   ],
   "source": [
    "from utils import plot_embeddings\n",
    "\n",
    "plot_embeddings(embeddings=embeddings, texts=example_sentences)"
   ]
  },
  {
   "cell_type": "markdown",
   "metadata": {},
   "source": [
    "### 1.4 Your Task: Multilingual Similarity Analysis  \n",
    "\n",
    "Your task is to **visualize the similarities between sentences with similar semantic content but in different languages**. This will help assess whether our model effectively captures multilingual semantics.  \n",
    "\n",
    "Once you have completed the analysis, repeat the process using the `granite-embedding:278m` model to compare its performance in handling multilingual embeddings."
   ]
  },
  {
   "cell_type": "code",
   "execution_count": 6,
   "metadata": {},
   "outputs": [
    {
     "data": {
      "application/vnd.plotly.v1+json": {
       "config": {
        "plotlyServerURL": "https://plot.ly"
       },
       "data": [
        {
         "coloraxis": "coloraxis",
         "hovertemplate": "Texts: %{x}<br>Texts: %{y}<br>Similarity: %{z}<extra></extra>",
         "name": "0",
         "type": "heatmap",
         "x": [
          "The cat...",
          "A felin...",
          "The dog...",
          "A posta...",
          "Die Kat...",
          "Eine Ka...",
          "Der Hun...",
          "Ein Pos...",
          "猫は窓辺に座り...",
          "窓辺にいる猫が...",
          "犬は郵便配達員...",
          "郵便配達員が手..."
         ],
         "xaxis": "x",
         "y": [
          "The cat...",
          "A felin...",
          "The dog...",
          "A posta...",
          "Die Kat...",
          "Eine Ka...",
          "Der Hun...",
          "Ein Pos...",
          "猫は窓辺に座り...",
          "窓辺にいる猫が...",
          "犬は郵便配達員...",
          "郵便配達員が手..."
         ],
         "yaxis": "y",
         "z": {
          "bdata": "+f//////7z/AAjHUWVTkP14Ib72kjLs/ru88SVIEuz8ihGyFyxXDP05A/GJ4Q8E/naAJ/E0vjD/m+K9Lvjq0vzd7CKjMSKQ/YQC4kom1tT9asAHkVUa+P60hiOW2ja8/wAIx1FlU5D/8///////vP0VXJg5Tzs8/p+AIEq0o0D9iFeQC/MrKP+e4KN4P2c0/34vxwunStT+grIyRhIGXP4WnWNgI958/5z88e8u+nT8Q6JtdJ+yPPwCIzGVkdpY/XghvvaSMuz9FVyYOU87PP/r//////+8/xcM9bFVf5T8mVE/k9FipP5oravhMFcU/oVgNapyjwD+SHPI776W3P+gs9OENw54/MrA2m9dVrD+IcdBlT3axPzmqAIe5u2e/ru88SVIEuz+n4AgSrSjQP8XDPWxVX+U/+///////7z95oQz8l322P72NbIXWWsA/Aa2EPR8dzT+v3s/zLHnOP78eXle0IXa/TX990xAprj9xl+kuSpmyP2CgevH536I/IoRshcsVwz9iFeQC/MrKPyZUT+T0WKk/eaEM/Jd9tj/+///////vPwqT2lvfb+E/70E4Neuh0j/vevRMMtfTPwpwjCg9KLY/B9I6xVJApT9WjPYIMwqRP3xL/KGScIs/TkD8YnhDwT/nuCjeD9nNP5oravhMFcU/vY1shdZawD8Kk9pb32/hP/r//////+8/PcfngOse0T+3Ll/C30jUP/dy7yH3ecI/cXqPCSgSvD9HaAt4ody5P6GHOv+ESLk/naAJ/E0vjD/fi/HC6dK1P6FYDWqco8A/Aa2EPR8dzT/vQTg166HSPz3H54DrHtE//P//////7z8OHfRyjazkP+77oHhz5cE/GWB5O9F1nj9u+prLWtK+P5Emdc9St6U/5vivS746tL+grIyRhIGXP5Ic8jvvpbc/r97P8yx5zj/vevRMMtfTP7cuX8LfSNQ/Dh30co2s5D/6///////vP8oSLypuOMA/mO3PFoAQnD8V5CsFOfm+P98VlECnorU/N3sIqMxIpD+Fp1jYCPefP+gs9OENw54/vx5eV7Qhdr8KcIwoPSi2P/dy7yH3ecI/7vugeHPlwT/KEi8qbjjAP/z//////+8/1msEfFxl3T+ZnKnn+0XWP5g/mlgDNNo/YQC4kom1tT/nPzx7y76dPzKwNpvXVaw/TX990xAprj8H0jrFUkClP3F6jwkoErw/GWB5O9F1nj+Y7c8WgBCcP9ZrBHxcZd0//P//////7z+doXEZDyXXP4M3fQjw2dg/WrAB5FVGvj8Q6JtdJ+yPP4hx0GVPdrE/cZfpLkqZsj9WjPYIMwqRP0doC3ih3Lk/bvqay1rSvj8V5CsFOfm+P5mcqef7RdY/naFxGQ8l1z/+///////vPxx7psJbGuU/rSGI5baNrz8AiMxlZHaWPzmqAIe5u2e/YKB68fnfoj98S/yhknCLP6GHOv+ESLk/kSZ1z1K3pT/fFZRAp6K1P5g/mlgDNNo/gzd9CPDZ2D8ce6bCWxrlP/z//////+8/",
          "dtype": "f8",
          "shape": "12, 12"
         }
        }
       ],
       "layout": {
        "coloraxis": {
         "colorbar": {
          "title": {
           "text": "Similarity"
          }
         },
         "colorscale": [
          [
           0,
           "#0d0887"
          ],
          [
           0.1111111111111111,
           "#46039f"
          ],
          [
           0.2222222222222222,
           "#7201a8"
          ],
          [
           0.3333333333333333,
           "#9c179e"
          ],
          [
           0.4444444444444444,
           "#bd3786"
          ],
          [
           0.5555555555555556,
           "#d8576b"
          ],
          [
           0.6666666666666666,
           "#ed7953"
          ],
          [
           0.7777777777777778,
           "#fb9f3a"
          ],
          [
           0.8888888888888888,
           "#fdca26"
          ],
          [
           1,
           "#f0f921"
          ]
         ]
        },
        "margin": {
         "t": 60
        },
        "template": {
         "data": {
          "bar": [
           {
            "error_x": {
             "color": "#2a3f5f"
            },
            "error_y": {
             "color": "#2a3f5f"
            },
            "marker": {
             "line": {
              "color": "#E5ECF6",
              "width": 0.5
             },
             "pattern": {
              "fillmode": "overlay",
              "size": 10,
              "solidity": 0.2
             }
            },
            "type": "bar"
           }
          ],
          "barpolar": [
           {
            "marker": {
             "line": {
              "color": "#E5ECF6",
              "width": 0.5
             },
             "pattern": {
              "fillmode": "overlay",
              "size": 10,
              "solidity": 0.2
             }
            },
            "type": "barpolar"
           }
          ],
          "carpet": [
           {
            "aaxis": {
             "endlinecolor": "#2a3f5f",
             "gridcolor": "white",
             "linecolor": "white",
             "minorgridcolor": "white",
             "startlinecolor": "#2a3f5f"
            },
            "baxis": {
             "endlinecolor": "#2a3f5f",
             "gridcolor": "white",
             "linecolor": "white",
             "minorgridcolor": "white",
             "startlinecolor": "#2a3f5f"
            },
            "type": "carpet"
           }
          ],
          "choropleth": [
           {
            "colorbar": {
             "outlinewidth": 0,
             "ticks": ""
            },
            "type": "choropleth"
           }
          ],
          "contour": [
           {
            "colorbar": {
             "outlinewidth": 0,
             "ticks": ""
            },
            "colorscale": [
             [
              0,
              "#0d0887"
             ],
             [
              0.1111111111111111,
              "#46039f"
             ],
             [
              0.2222222222222222,
              "#7201a8"
             ],
             [
              0.3333333333333333,
              "#9c179e"
             ],
             [
              0.4444444444444444,
              "#bd3786"
             ],
             [
              0.5555555555555556,
              "#d8576b"
             ],
             [
              0.6666666666666666,
              "#ed7953"
             ],
             [
              0.7777777777777778,
              "#fb9f3a"
             ],
             [
              0.8888888888888888,
              "#fdca26"
             ],
             [
              1,
              "#f0f921"
             ]
            ],
            "type": "contour"
           }
          ],
          "contourcarpet": [
           {
            "colorbar": {
             "outlinewidth": 0,
             "ticks": ""
            },
            "type": "contourcarpet"
           }
          ],
          "heatmap": [
           {
            "colorbar": {
             "outlinewidth": 0,
             "ticks": ""
            },
            "colorscale": [
             [
              0,
              "#0d0887"
             ],
             [
              0.1111111111111111,
              "#46039f"
             ],
             [
              0.2222222222222222,
              "#7201a8"
             ],
             [
              0.3333333333333333,
              "#9c179e"
             ],
             [
              0.4444444444444444,
              "#bd3786"
             ],
             [
              0.5555555555555556,
              "#d8576b"
             ],
             [
              0.6666666666666666,
              "#ed7953"
             ],
             [
              0.7777777777777778,
              "#fb9f3a"
             ],
             [
              0.8888888888888888,
              "#fdca26"
             ],
             [
              1,
              "#f0f921"
             ]
            ],
            "type": "heatmap"
           }
          ],
          "histogram": [
           {
            "marker": {
             "pattern": {
              "fillmode": "overlay",
              "size": 10,
              "solidity": 0.2
             }
            },
            "type": "histogram"
           }
          ],
          "histogram2d": [
           {
            "colorbar": {
             "outlinewidth": 0,
             "ticks": ""
            },
            "colorscale": [
             [
              0,
              "#0d0887"
             ],
             [
              0.1111111111111111,
              "#46039f"
             ],
             [
              0.2222222222222222,
              "#7201a8"
             ],
             [
              0.3333333333333333,
              "#9c179e"
             ],
             [
              0.4444444444444444,
              "#bd3786"
             ],
             [
              0.5555555555555556,
              "#d8576b"
             ],
             [
              0.6666666666666666,
              "#ed7953"
             ],
             [
              0.7777777777777778,
              "#fb9f3a"
             ],
             [
              0.8888888888888888,
              "#fdca26"
             ],
             [
              1,
              "#f0f921"
             ]
            ],
            "type": "histogram2d"
           }
          ],
          "histogram2dcontour": [
           {
            "colorbar": {
             "outlinewidth": 0,
             "ticks": ""
            },
            "colorscale": [
             [
              0,
              "#0d0887"
             ],
             [
              0.1111111111111111,
              "#46039f"
             ],
             [
              0.2222222222222222,
              "#7201a8"
             ],
             [
              0.3333333333333333,
              "#9c179e"
             ],
             [
              0.4444444444444444,
              "#bd3786"
             ],
             [
              0.5555555555555556,
              "#d8576b"
             ],
             [
              0.6666666666666666,
              "#ed7953"
             ],
             [
              0.7777777777777778,
              "#fb9f3a"
             ],
             [
              0.8888888888888888,
              "#fdca26"
             ],
             [
              1,
              "#f0f921"
             ]
            ],
            "type": "histogram2dcontour"
           }
          ],
          "mesh3d": [
           {
            "colorbar": {
             "outlinewidth": 0,
             "ticks": ""
            },
            "type": "mesh3d"
           }
          ],
          "parcoords": [
           {
            "line": {
             "colorbar": {
              "outlinewidth": 0,
              "ticks": ""
             }
            },
            "type": "parcoords"
           }
          ],
          "pie": [
           {
            "automargin": true,
            "type": "pie"
           }
          ],
          "scatter": [
           {
            "fillpattern": {
             "fillmode": "overlay",
             "size": 10,
             "solidity": 0.2
            },
            "type": "scatter"
           }
          ],
          "scatter3d": [
           {
            "line": {
             "colorbar": {
              "outlinewidth": 0,
              "ticks": ""
             }
            },
            "marker": {
             "colorbar": {
              "outlinewidth": 0,
              "ticks": ""
             }
            },
            "type": "scatter3d"
           }
          ],
          "scattercarpet": [
           {
            "marker": {
             "colorbar": {
              "outlinewidth": 0,
              "ticks": ""
             }
            },
            "type": "scattercarpet"
           }
          ],
          "scattergeo": [
           {
            "marker": {
             "colorbar": {
              "outlinewidth": 0,
              "ticks": ""
             }
            },
            "type": "scattergeo"
           }
          ],
          "scattergl": [
           {
            "marker": {
             "colorbar": {
              "outlinewidth": 0,
              "ticks": ""
             }
            },
            "type": "scattergl"
           }
          ],
          "scattermap": [
           {
            "marker": {
             "colorbar": {
              "outlinewidth": 0,
              "ticks": ""
             }
            },
            "type": "scattermap"
           }
          ],
          "scattermapbox": [
           {
            "marker": {
             "colorbar": {
              "outlinewidth": 0,
              "ticks": ""
             }
            },
            "type": "scattermapbox"
           }
          ],
          "scatterpolar": [
           {
            "marker": {
             "colorbar": {
              "outlinewidth": 0,
              "ticks": ""
             }
            },
            "type": "scatterpolar"
           }
          ],
          "scatterpolargl": [
           {
            "marker": {
             "colorbar": {
              "outlinewidth": 0,
              "ticks": ""
             }
            },
            "type": "scatterpolargl"
           }
          ],
          "scatterternary": [
           {
            "marker": {
             "colorbar": {
              "outlinewidth": 0,
              "ticks": ""
             }
            },
            "type": "scatterternary"
           }
          ],
          "surface": [
           {
            "colorbar": {
             "outlinewidth": 0,
             "ticks": ""
            },
            "colorscale": [
             [
              0,
              "#0d0887"
             ],
             [
              0.1111111111111111,
              "#46039f"
             ],
             [
              0.2222222222222222,
              "#7201a8"
             ],
             [
              0.3333333333333333,
              "#9c179e"
             ],
             [
              0.4444444444444444,
              "#bd3786"
             ],
             [
              0.5555555555555556,
              "#d8576b"
             ],
             [
              0.6666666666666666,
              "#ed7953"
             ],
             [
              0.7777777777777778,
              "#fb9f3a"
             ],
             [
              0.8888888888888888,
              "#fdca26"
             ],
             [
              1,
              "#f0f921"
             ]
            ],
            "type": "surface"
           }
          ],
          "table": [
           {
            "cells": {
             "fill": {
              "color": "#EBF0F8"
             },
             "line": {
              "color": "white"
             }
            },
            "header": {
             "fill": {
              "color": "#C8D4E3"
             },
             "line": {
              "color": "white"
             }
            },
            "type": "table"
           }
          ]
         },
         "layout": {
          "annotationdefaults": {
           "arrowcolor": "#2a3f5f",
           "arrowhead": 0,
           "arrowwidth": 1
          },
          "autotypenumbers": "strict",
          "coloraxis": {
           "colorbar": {
            "outlinewidth": 0,
            "ticks": ""
           }
          },
          "colorscale": {
           "diverging": [
            [
             0,
             "#8e0152"
            ],
            [
             0.1,
             "#c51b7d"
            ],
            [
             0.2,
             "#de77ae"
            ],
            [
             0.3,
             "#f1b6da"
            ],
            [
             0.4,
             "#fde0ef"
            ],
            [
             0.5,
             "#f7f7f7"
            ],
            [
             0.6,
             "#e6f5d0"
            ],
            [
             0.7,
             "#b8e186"
            ],
            [
             0.8,
             "#7fbc41"
            ],
            [
             0.9,
             "#4d9221"
            ],
            [
             1,
             "#276419"
            ]
           ],
           "sequential": [
            [
             0,
             "#0d0887"
            ],
            [
             0.1111111111111111,
             "#46039f"
            ],
            [
             0.2222222222222222,
             "#7201a8"
            ],
            [
             0.3333333333333333,
             "#9c179e"
            ],
            [
             0.4444444444444444,
             "#bd3786"
            ],
            [
             0.5555555555555556,
             "#d8576b"
            ],
            [
             0.6666666666666666,
             "#ed7953"
            ],
            [
             0.7777777777777778,
             "#fb9f3a"
            ],
            [
             0.8888888888888888,
             "#fdca26"
            ],
            [
             1,
             "#f0f921"
            ]
           ],
           "sequentialminus": [
            [
             0,
             "#0d0887"
            ],
            [
             0.1111111111111111,
             "#46039f"
            ],
            [
             0.2222222222222222,
             "#7201a8"
            ],
            [
             0.3333333333333333,
             "#9c179e"
            ],
            [
             0.4444444444444444,
             "#bd3786"
            ],
            [
             0.5555555555555556,
             "#d8576b"
            ],
            [
             0.6666666666666666,
             "#ed7953"
            ],
            [
             0.7777777777777778,
             "#fb9f3a"
            ],
            [
             0.8888888888888888,
             "#fdca26"
            ],
            [
             1,
             "#f0f921"
            ]
           ]
          },
          "colorway": [
           "#636efa",
           "#EF553B",
           "#00cc96",
           "#ab63fa",
           "#FFA15A",
           "#19d3f3",
           "#FF6692",
           "#B6E880",
           "#FF97FF",
           "#FECB52"
          ],
          "font": {
           "color": "#2a3f5f"
          },
          "geo": {
           "bgcolor": "white",
           "lakecolor": "white",
           "landcolor": "#E5ECF6",
           "showlakes": true,
           "showland": true,
           "subunitcolor": "white"
          },
          "hoverlabel": {
           "align": "left"
          },
          "hovermode": "closest",
          "mapbox": {
           "style": "light"
          },
          "paper_bgcolor": "white",
          "plot_bgcolor": "#E5ECF6",
          "polar": {
           "angularaxis": {
            "gridcolor": "white",
            "linecolor": "white",
            "ticks": ""
           },
           "bgcolor": "#E5ECF6",
           "radialaxis": {
            "gridcolor": "white",
            "linecolor": "white",
            "ticks": ""
           }
          },
          "scene": {
           "xaxis": {
            "backgroundcolor": "#E5ECF6",
            "gridcolor": "white",
            "gridwidth": 2,
            "linecolor": "white",
            "showbackground": true,
            "ticks": "",
            "zerolinecolor": "white"
           },
           "yaxis": {
            "backgroundcolor": "#E5ECF6",
            "gridcolor": "white",
            "gridwidth": 2,
            "linecolor": "white",
            "showbackground": true,
            "ticks": "",
            "zerolinecolor": "white"
           },
           "zaxis": {
            "backgroundcolor": "#E5ECF6",
            "gridcolor": "white",
            "gridwidth": 2,
            "linecolor": "white",
            "showbackground": true,
            "ticks": "",
            "zerolinecolor": "white"
           }
          },
          "shapedefaults": {
           "line": {
            "color": "#2a3f5f"
           }
          },
          "ternary": {
           "aaxis": {
            "gridcolor": "white",
            "linecolor": "white",
            "ticks": ""
           },
           "baxis": {
            "gridcolor": "white",
            "linecolor": "white",
            "ticks": ""
           },
           "bgcolor": "#E5ECF6",
           "caxis": {
            "gridcolor": "white",
            "linecolor": "white",
            "ticks": ""
           }
          },
          "title": {
           "x": 0.05
          },
          "xaxis": {
           "automargin": true,
           "gridcolor": "white",
           "linecolor": "white",
           "ticks": "",
           "title": {
            "standoff": 15
           },
           "zerolinecolor": "white",
           "zerolinewidth": 2
          },
          "yaxis": {
           "automargin": true,
           "gridcolor": "white",
           "linecolor": "white",
           "ticks": "",
           "title": {
            "standoff": 15
           },
           "zerolinecolor": "white",
           "zerolinewidth": 2
          }
         }
        },
        "xaxis": {
         "anchor": "y",
         "constrain": "domain",
         "domain": [
          0,
          1
         ],
         "scaleanchor": "y",
         "side": "top",
         "tickangle": 45,
         "title": {
          "text": "Texts"
         }
        },
        "yaxis": {
         "anchor": "x",
         "autorange": "reversed",
         "constrain": "domain",
         "domain": [
          0,
          1
         ],
         "tickangle": -45,
         "title": {
          "text": "Texts"
         }
        }
       }
      }
     },
     "metadata": {},
     "output_type": "display_data"
    },
    {
     "data": {
      "application/vnd.plotly.v1+json": {
       "config": {
        "plotlyServerURL": "https://plot.ly"
       },
       "data": [
        {
         "coloraxis": "coloraxis",
         "hovertemplate": "Texts: %{x}<br>Texts: %{y}<br>Similarity: %{z}<extra></extra>",
         "name": "0",
         "type": "heatmap",
         "x": [
          "The cat...",
          "A felin...",
          "The dog...",
          "A posta...",
          "Die Kat...",
          "Eine Ka...",
          "Der Hun...",
          "Ein Pos...",
          "猫は窓辺に座り...",
          "窓辺にいる猫が...",
          "犬は郵便配達員...",
          "郵便配達員が手..."
         ],
         "xaxis": "x",
         "y": [
          "The cat...",
          "A felin...",
          "The dog...",
          "A posta...",
          "Die Kat...",
          "Eine Ka...",
          "Der Hun...",
          "Ein Pos...",
          "猫は窓辺に座り...",
          "窓辺にいる猫が...",
          "犬は郵便配達員...",
          "郵便配達員が手..."
         ],
         "yaxis": "y",
         "z": {
          "bdata": "AAAAAAAA8D9FksOlOOPpP3Zyvg1g4+Q/Lzz56FgD4j8/DxNtre/tP3yEhTeIpuk/LgnPqM1x5T+uSvvB8xXjP/uUar8YwO0/4uZk/7IY6j/EjTdj9ovjP4ZGCQGdzeI/RZLDpTjj6T/6///////vP7kn274ZfuU/M7qLtFfB5D+oDIdBu4/pP8Er5n+Ives/aABtJB4U5T/HRfZRbNfkPw5vuj8wTOk/DaDvryU36z9v8S7mhx7kP90GGbLn2OQ/dnK+DWDj5D+5J9u+GX7lP/z//////+8/KL0ia6Cv6T9en39gMpnkP35WjYK3aOU/v7LIGOUE7D+XGYuXDnfpP999TWbJA+Q/vFL8R5lM5T+Ry6FWF+TrP10p+Qykpuo/Lzz56FgD4j8zuou0V8HkPyi9Imugr+k//P//////7z+fw8OH/czhP61lKhn5OOM/x7wesb+F5z9//eNaG0PtPyYqJAzr1OE/boOtKIeZ4z/PhEOaugHqP6aSgQmbMO0/Pw8Tba3v7T+oDIdBu4/pP16ff2AymeQ/n8PDh/3M4T/7///////vP/tLaiyv6eo/qAsFBntm5T+3TKJvQX/jP7Dk56xffu0/jIa2+iKq6j9DnQNAJKXjP/GSSjGSKuM/fISFN4im6T/BK+Z/iL3rP35WjYK3aOU/rWUqGfk44z/7S2osr+nqP/7//////+8/tj3fwPPC5T/EtmbnaXvkPxFlC134Ceo/awTs7Cxy6z9+GYGjMXPkP9M7wkkBUuQ/LgnPqM1x5T9oAG0kHhTlP7+yyBjlBOw/x7wesb+F5z+oCwUGe2blP7Y938DzwuU/+v//////7z8W8RNWo+rpP/VIEwVQe+Q/fAABQgC+5D/yaLQqvyjsP0x+zhrDKek/rkr7wfMV4z/HRfZRbNfkP5cZi5cOd+k/f/3jWhtD7T+3TKJvQX/jP8S2Zudpe+Q/FvETVqPq6T/6///////vP02y+Hq0NuM/NrG2S5bL5D/g/9wIgtDpPyRQESC+DO0/+5RqvxjA7T8Ob7o/MEzpP999TWbJA+Q/JiokDOvU4T+w5OesX37tPxFlC134Ceo/9UgTBVB75D9Nsvh6tDbjP/7//////+8/Ga8XpQuK6z8q/ptqHeHiP3l/zxyVbuI/4uZk/7IY6j8NoO+vJTfrP7xS/EeZTOU/boOtKIeZ4z+Mhrb6IqrqP2sE7Owscus/fAABQgC+5D82sbZLlsvkPxmvF6ULius//P//////7z/zUqULadnjP0iqSXdimOQ/xI03Y/aL4z9v8S7mhx7kP5HLoVYX5Os/z4RDmroB6j9DnQNAJKXjP34ZgaMxc+Q/8mi0Kr8o7D/g/9wIgtDpPyr+m2od4eI/81KlC2nZ4z/7///////vP15yKU4Vwuo/hkYJAZ3N4j/dBhmy59jkP10p+Qykpuo/ppKBCZsw7T/xkkoxkirjP9M7wkkBUuQ/TH7OGsMp6T8kUBEgvgztP3l/zxyVbuI/SKpJd2KY5D9ecilOFcLqPwEAAAAAAPA/",
          "dtype": "f8",
          "shape": "12, 12"
         }
        }
       ],
       "layout": {
        "coloraxis": {
         "colorbar": {
          "title": {
           "text": "Similarity"
          }
         },
         "colorscale": [
          [
           0,
           "#0d0887"
          ],
          [
           0.1111111111111111,
           "#46039f"
          ],
          [
           0.2222222222222222,
           "#7201a8"
          ],
          [
           0.3333333333333333,
           "#9c179e"
          ],
          [
           0.4444444444444444,
           "#bd3786"
          ],
          [
           0.5555555555555556,
           "#d8576b"
          ],
          [
           0.6666666666666666,
           "#ed7953"
          ],
          [
           0.7777777777777778,
           "#fb9f3a"
          ],
          [
           0.8888888888888888,
           "#fdca26"
          ],
          [
           1,
           "#f0f921"
          ]
         ]
        },
        "margin": {
         "t": 60
        },
        "template": {
         "data": {
          "bar": [
           {
            "error_x": {
             "color": "#2a3f5f"
            },
            "error_y": {
             "color": "#2a3f5f"
            },
            "marker": {
             "line": {
              "color": "#E5ECF6",
              "width": 0.5
             },
             "pattern": {
              "fillmode": "overlay",
              "size": 10,
              "solidity": 0.2
             }
            },
            "type": "bar"
           }
          ],
          "barpolar": [
           {
            "marker": {
             "line": {
              "color": "#E5ECF6",
              "width": 0.5
             },
             "pattern": {
              "fillmode": "overlay",
              "size": 10,
              "solidity": 0.2
             }
            },
            "type": "barpolar"
           }
          ],
          "carpet": [
           {
            "aaxis": {
             "endlinecolor": "#2a3f5f",
             "gridcolor": "white",
             "linecolor": "white",
             "minorgridcolor": "white",
             "startlinecolor": "#2a3f5f"
            },
            "baxis": {
             "endlinecolor": "#2a3f5f",
             "gridcolor": "white",
             "linecolor": "white",
             "minorgridcolor": "white",
             "startlinecolor": "#2a3f5f"
            },
            "type": "carpet"
           }
          ],
          "choropleth": [
           {
            "colorbar": {
             "outlinewidth": 0,
             "ticks": ""
            },
            "type": "choropleth"
           }
          ],
          "contour": [
           {
            "colorbar": {
             "outlinewidth": 0,
             "ticks": ""
            },
            "colorscale": [
             [
              0,
              "#0d0887"
             ],
             [
              0.1111111111111111,
              "#46039f"
             ],
             [
              0.2222222222222222,
              "#7201a8"
             ],
             [
              0.3333333333333333,
              "#9c179e"
             ],
             [
              0.4444444444444444,
              "#bd3786"
             ],
             [
              0.5555555555555556,
              "#d8576b"
             ],
             [
              0.6666666666666666,
              "#ed7953"
             ],
             [
              0.7777777777777778,
              "#fb9f3a"
             ],
             [
              0.8888888888888888,
              "#fdca26"
             ],
             [
              1,
              "#f0f921"
             ]
            ],
            "type": "contour"
           }
          ],
          "contourcarpet": [
           {
            "colorbar": {
             "outlinewidth": 0,
             "ticks": ""
            },
            "type": "contourcarpet"
           }
          ],
          "heatmap": [
           {
            "colorbar": {
             "outlinewidth": 0,
             "ticks": ""
            },
            "colorscale": [
             [
              0,
              "#0d0887"
             ],
             [
              0.1111111111111111,
              "#46039f"
             ],
             [
              0.2222222222222222,
              "#7201a8"
             ],
             [
              0.3333333333333333,
              "#9c179e"
             ],
             [
              0.4444444444444444,
              "#bd3786"
             ],
             [
              0.5555555555555556,
              "#d8576b"
             ],
             [
              0.6666666666666666,
              "#ed7953"
             ],
             [
              0.7777777777777778,
              "#fb9f3a"
             ],
             [
              0.8888888888888888,
              "#fdca26"
             ],
             [
              1,
              "#f0f921"
             ]
            ],
            "type": "heatmap"
           }
          ],
          "histogram": [
           {
            "marker": {
             "pattern": {
              "fillmode": "overlay",
              "size": 10,
              "solidity": 0.2
             }
            },
            "type": "histogram"
           }
          ],
          "histogram2d": [
           {
            "colorbar": {
             "outlinewidth": 0,
             "ticks": ""
            },
            "colorscale": [
             [
              0,
              "#0d0887"
             ],
             [
              0.1111111111111111,
              "#46039f"
             ],
             [
              0.2222222222222222,
              "#7201a8"
             ],
             [
              0.3333333333333333,
              "#9c179e"
             ],
             [
              0.4444444444444444,
              "#bd3786"
             ],
             [
              0.5555555555555556,
              "#d8576b"
             ],
             [
              0.6666666666666666,
              "#ed7953"
             ],
             [
              0.7777777777777778,
              "#fb9f3a"
             ],
             [
              0.8888888888888888,
              "#fdca26"
             ],
             [
              1,
              "#f0f921"
             ]
            ],
            "type": "histogram2d"
           }
          ],
          "histogram2dcontour": [
           {
            "colorbar": {
             "outlinewidth": 0,
             "ticks": ""
            },
            "colorscale": [
             [
              0,
              "#0d0887"
             ],
             [
              0.1111111111111111,
              "#46039f"
             ],
             [
              0.2222222222222222,
              "#7201a8"
             ],
             [
              0.3333333333333333,
              "#9c179e"
             ],
             [
              0.4444444444444444,
              "#bd3786"
             ],
             [
              0.5555555555555556,
              "#d8576b"
             ],
             [
              0.6666666666666666,
              "#ed7953"
             ],
             [
              0.7777777777777778,
              "#fb9f3a"
             ],
             [
              0.8888888888888888,
              "#fdca26"
             ],
             [
              1,
              "#f0f921"
             ]
            ],
            "type": "histogram2dcontour"
           }
          ],
          "mesh3d": [
           {
            "colorbar": {
             "outlinewidth": 0,
             "ticks": ""
            },
            "type": "mesh3d"
           }
          ],
          "parcoords": [
           {
            "line": {
             "colorbar": {
              "outlinewidth": 0,
              "ticks": ""
             }
            },
            "type": "parcoords"
           }
          ],
          "pie": [
           {
            "automargin": true,
            "type": "pie"
           }
          ],
          "scatter": [
           {
            "fillpattern": {
             "fillmode": "overlay",
             "size": 10,
             "solidity": 0.2
            },
            "type": "scatter"
           }
          ],
          "scatter3d": [
           {
            "line": {
             "colorbar": {
              "outlinewidth": 0,
              "ticks": ""
             }
            },
            "marker": {
             "colorbar": {
              "outlinewidth": 0,
              "ticks": ""
             }
            },
            "type": "scatter3d"
           }
          ],
          "scattercarpet": [
           {
            "marker": {
             "colorbar": {
              "outlinewidth": 0,
              "ticks": ""
             }
            },
            "type": "scattercarpet"
           }
          ],
          "scattergeo": [
           {
            "marker": {
             "colorbar": {
              "outlinewidth": 0,
              "ticks": ""
             }
            },
            "type": "scattergeo"
           }
          ],
          "scattergl": [
           {
            "marker": {
             "colorbar": {
              "outlinewidth": 0,
              "ticks": ""
             }
            },
            "type": "scattergl"
           }
          ],
          "scattermap": [
           {
            "marker": {
             "colorbar": {
              "outlinewidth": 0,
              "ticks": ""
             }
            },
            "type": "scattermap"
           }
          ],
          "scattermapbox": [
           {
            "marker": {
             "colorbar": {
              "outlinewidth": 0,
              "ticks": ""
             }
            },
            "type": "scattermapbox"
           }
          ],
          "scatterpolar": [
           {
            "marker": {
             "colorbar": {
              "outlinewidth": 0,
              "ticks": ""
             }
            },
            "type": "scatterpolar"
           }
          ],
          "scatterpolargl": [
           {
            "marker": {
             "colorbar": {
              "outlinewidth": 0,
              "ticks": ""
             }
            },
            "type": "scatterpolargl"
           }
          ],
          "scatterternary": [
           {
            "marker": {
             "colorbar": {
              "outlinewidth": 0,
              "ticks": ""
             }
            },
            "type": "scatterternary"
           }
          ],
          "surface": [
           {
            "colorbar": {
             "outlinewidth": 0,
             "ticks": ""
            },
            "colorscale": [
             [
              0,
              "#0d0887"
             ],
             [
              0.1111111111111111,
              "#46039f"
             ],
             [
              0.2222222222222222,
              "#7201a8"
             ],
             [
              0.3333333333333333,
              "#9c179e"
             ],
             [
              0.4444444444444444,
              "#bd3786"
             ],
             [
              0.5555555555555556,
              "#d8576b"
             ],
             [
              0.6666666666666666,
              "#ed7953"
             ],
             [
              0.7777777777777778,
              "#fb9f3a"
             ],
             [
              0.8888888888888888,
              "#fdca26"
             ],
             [
              1,
              "#f0f921"
             ]
            ],
            "type": "surface"
           }
          ],
          "table": [
           {
            "cells": {
             "fill": {
              "color": "#EBF0F8"
             },
             "line": {
              "color": "white"
             }
            },
            "header": {
             "fill": {
              "color": "#C8D4E3"
             },
             "line": {
              "color": "white"
             }
            },
            "type": "table"
           }
          ]
         },
         "layout": {
          "annotationdefaults": {
           "arrowcolor": "#2a3f5f",
           "arrowhead": 0,
           "arrowwidth": 1
          },
          "autotypenumbers": "strict",
          "coloraxis": {
           "colorbar": {
            "outlinewidth": 0,
            "ticks": ""
           }
          },
          "colorscale": {
           "diverging": [
            [
             0,
             "#8e0152"
            ],
            [
             0.1,
             "#c51b7d"
            ],
            [
             0.2,
             "#de77ae"
            ],
            [
             0.3,
             "#f1b6da"
            ],
            [
             0.4,
             "#fde0ef"
            ],
            [
             0.5,
             "#f7f7f7"
            ],
            [
             0.6,
             "#e6f5d0"
            ],
            [
             0.7,
             "#b8e186"
            ],
            [
             0.8,
             "#7fbc41"
            ],
            [
             0.9,
             "#4d9221"
            ],
            [
             1,
             "#276419"
            ]
           ],
           "sequential": [
            [
             0,
             "#0d0887"
            ],
            [
             0.1111111111111111,
             "#46039f"
            ],
            [
             0.2222222222222222,
             "#7201a8"
            ],
            [
             0.3333333333333333,
             "#9c179e"
            ],
            [
             0.4444444444444444,
             "#bd3786"
            ],
            [
             0.5555555555555556,
             "#d8576b"
            ],
            [
             0.6666666666666666,
             "#ed7953"
            ],
            [
             0.7777777777777778,
             "#fb9f3a"
            ],
            [
             0.8888888888888888,
             "#fdca26"
            ],
            [
             1,
             "#f0f921"
            ]
           ],
           "sequentialminus": [
            [
             0,
             "#0d0887"
            ],
            [
             0.1111111111111111,
             "#46039f"
            ],
            [
             0.2222222222222222,
             "#7201a8"
            ],
            [
             0.3333333333333333,
             "#9c179e"
            ],
            [
             0.4444444444444444,
             "#bd3786"
            ],
            [
             0.5555555555555556,
             "#d8576b"
            ],
            [
             0.6666666666666666,
             "#ed7953"
            ],
            [
             0.7777777777777778,
             "#fb9f3a"
            ],
            [
             0.8888888888888888,
             "#fdca26"
            ],
            [
             1,
             "#f0f921"
            ]
           ]
          },
          "colorway": [
           "#636efa",
           "#EF553B",
           "#00cc96",
           "#ab63fa",
           "#FFA15A",
           "#19d3f3",
           "#FF6692",
           "#B6E880",
           "#FF97FF",
           "#FECB52"
          ],
          "font": {
           "color": "#2a3f5f"
          },
          "geo": {
           "bgcolor": "white",
           "lakecolor": "white",
           "landcolor": "#E5ECF6",
           "showlakes": true,
           "showland": true,
           "subunitcolor": "white"
          },
          "hoverlabel": {
           "align": "left"
          },
          "hovermode": "closest",
          "mapbox": {
           "style": "light"
          },
          "paper_bgcolor": "white",
          "plot_bgcolor": "#E5ECF6",
          "polar": {
           "angularaxis": {
            "gridcolor": "white",
            "linecolor": "white",
            "ticks": ""
           },
           "bgcolor": "#E5ECF6",
           "radialaxis": {
            "gridcolor": "white",
            "linecolor": "white",
            "ticks": ""
           }
          },
          "scene": {
           "xaxis": {
            "backgroundcolor": "#E5ECF6",
            "gridcolor": "white",
            "gridwidth": 2,
            "linecolor": "white",
            "showbackground": true,
            "ticks": "",
            "zerolinecolor": "white"
           },
           "yaxis": {
            "backgroundcolor": "#E5ECF6",
            "gridcolor": "white",
            "gridwidth": 2,
            "linecolor": "white",
            "showbackground": true,
            "ticks": "",
            "zerolinecolor": "white"
           },
           "zaxis": {
            "backgroundcolor": "#E5ECF6",
            "gridcolor": "white",
            "gridwidth": 2,
            "linecolor": "white",
            "showbackground": true,
            "ticks": "",
            "zerolinecolor": "white"
           }
          },
          "shapedefaults": {
           "line": {
            "color": "#2a3f5f"
           }
          },
          "ternary": {
           "aaxis": {
            "gridcolor": "white",
            "linecolor": "white",
            "ticks": ""
           },
           "baxis": {
            "gridcolor": "white",
            "linecolor": "white",
            "ticks": ""
           },
           "bgcolor": "#E5ECF6",
           "caxis": {
            "gridcolor": "white",
            "linecolor": "white",
            "ticks": ""
           }
          },
          "title": {
           "x": 0.05
          },
          "xaxis": {
           "automargin": true,
           "gridcolor": "white",
           "linecolor": "white",
           "ticks": "",
           "title": {
            "standoff": 15
           },
           "zerolinecolor": "white",
           "zerolinewidth": 2
          },
          "yaxis": {
           "automargin": true,
           "gridcolor": "white",
           "linecolor": "white",
           "ticks": "",
           "title": {
            "standoff": 15
           },
           "zerolinecolor": "white",
           "zerolinewidth": 2
          }
         }
        },
        "xaxis": {
         "anchor": "y",
         "constrain": "domain",
         "domain": [
          0,
          1
         ],
         "scaleanchor": "y",
         "side": "top",
         "tickangle": 45,
         "title": {
          "text": "Texts"
         }
        },
        "yaxis": {
         "anchor": "x",
         "autorange": "reversed",
         "constrain": "domain",
         "domain": [
          0,
          1
         ],
         "tickangle": -45,
         "title": {
          "text": "Texts"
         }
        }
       }
      }
     },
     "metadata": {},
     "output_type": "display_data"
    }
   ],
   "source": [
    "### Your code goes here\n",
    "sentences = [\n",
    "    # English\n",
    "    \"The cat sat on the windowsill, watching the birds outside.\",\n",
    "    \"A feline perched by the window, observing the chirping sparrows.\",\n",
    "    \"The dog barked loudly when the mailman arrived.\",\n",
    "    \"A postal worker delivered letters while a nearby canine growled.\",\n",
    "    # German\n",
    "    \"Die Katze saß auf der Fensterbank und beobachtete die Vögel draußen.\",\n",
    "    \"Eine Katze hockte am Fenster und schaute den zwitschernden Spatzen zu.\",\n",
    "    \"Der Hund bellte laut, als der Postbote ankam.\",\n",
    "    \"Ein Postbote brachte Briefe, während ein Hund in der Nähe knurrte.\",\n",
    "    # Japanese\n",
    "    \"猫は窓辺に座り、外の鳥を眺めていた。\",\n",
    "    \"窓辺にいる猫がさえずるスズメを観察していた。\",\n",
    "    \"犬は郵便配達員が来たとき、大きな声で吠えた。\",\n",
    "    \"郵便配達員が手紙を届けると、近くの犬が唸った。\",\n",
    "]\n",
    "\n",
    "embeddings = bulk_embed(\"all-minilm:33m\", sentences, client)\n",
    "\n",
    "similarities = cosine_similarity(embeddings)\n",
    "\n",
    "plot_similarity_heatmap(similarities, texts=sentences, limit=10)\n",
    "\n",
    "embeddings = bulk_embed(\"granite-embedding:278m\", sentences, client)\n",
    "\n",
    "similarities = cosine_similarity(embeddings)\n",
    "\n",
    "plot_similarity_heatmap(similarities, texts=sentences, limit=10)"
   ]
  },
  {
   "cell_type": "markdown",
   "metadata": {},
   "source": [
    "### 2. Vector Stores and Search  \n",
    "\n",
    "A **vector store** is a specialized database for managing and searching high-dimensional embeddings. Unlike traditional keyword-based search, vector stores enable **semantic search**, retrieving relevant information based on meaning rather than exact matches. This is achieved through **approximate nearest neighbor (ANN) search**, which efficiently finds semantically similar entries.  \n",
    "\n",
    "To integrate vector stores into our system, we will again use **LangChain**, which provides seamless tools for storing and retrieving embeddings for effective semantic search.\n",
    "\n"
   ]
  },
  {
   "cell_type": "code",
   "execution_count": 7,
   "metadata": {},
   "outputs": [
    {
     "data": {
      "text/plain": [
       "<DistanceStrategy.EUCLIDEAN_DISTANCE: 'EUCLIDEAN_DISTANCE'>"
      ]
     },
     "execution_count": 7,
     "metadata": {},
     "output_type": "execute_result"
    }
   ],
   "source": [
    "import faiss\n",
    "from langchain_community.vectorstores import FAISS\n",
    "from langchain_community.docstore.in_memory import InMemoryDocstore\n",
    "from langchain_ollama import OllamaEmbeddings\n",
    "from langchain_core.documents import Document\n",
    "\n",
    "\n",
    "def create_vector_store(model: str = \"granite-embedding:278m\"):\n",
    "    # Wrap our Ollama model\n",
    "    embedding_provider = OllamaEmbeddings(model=model)\n",
    "\n",
    "    # Initialize the vector store\n",
    "    index = faiss.IndexFlatL2(len(embedding_provider.embed_query(\"hello world\")))\n",
    "\n",
    "    # Store the documents in memory for now\n",
    "    vector_store = FAISS(\n",
    "        embedding_function=embedding_provider,\n",
    "        index=index,\n",
    "        docstore=InMemoryDocstore(),\n",
    "        index_to_docstore_id={},\n",
    "    )\n",
    "    return vector_store\n",
    "\n",
    "\n",
    "vector_store = create_vector_store()\n",
    "vector_store.distance_strategy"
   ]
  },
  {
   "cell_type": "markdown",
   "metadata": {},
   "source": [
    "### 2.1 Using the Vector Store  \n",
    "\n",
    "To store text in the vector database, we wrap it in a `Document` object, which includes `page_content` for the text itself and optional `metadata` for additional context."
   ]
  },
  {
   "cell_type": "code",
   "execution_count": 8,
   "metadata": {},
   "outputs": [],
   "source": [
    "documents = []\n",
    "for i, sentence in enumerate(example_sentences):\n",
    "    document = Document(page_content=sentence, metadata={\"document_id\": i})\n",
    "    documents.append(document)\n",
    "\n",
    "ids = vector_store.add_documents(documents=documents)"
   ]
  },
  {
   "cell_type": "markdown",
   "metadata": {},
   "source": [
    "### 2.2 Querying the Vector Store  \n",
    "\n",
    "To retrieve similar documents, we can use the `similarity_search_with_score` function, which finds and ranks documents based on their relevance to a given query."
   ]
  },
  {
   "cell_type": "code",
   "execution_count": 9,
   "metadata": {},
   "outputs": [
    {
     "name": "stdout",
     "output_type": "stream",
     "text": [
      "* [SIM=1.021127] A feline perched by the window, observing the chirping sparrows. [{'document_id': 1}]\n",
      "* [SIM=1.030297] A postal worker delivered letters while a nearby canine growled. [{'document_id': 3}]\n",
      "* [SIM=1.054524] The cat sat on the windowsill, watching the birds outside. [{'document_id': 0}]\n"
     ]
    }
   ],
   "source": [
    "results = vector_store.similarity_search_with_score(query=\"cat\", k=3)\n",
    "for doc, score in results:\n",
    "    print(f\"* [SIM={score:3f}] {doc.page_content} [{doc.metadata}]\")"
   ]
  },
  {
   "cell_type": "markdown",
   "metadata": {},
   "source": [
    "## 3. Indexing a Codebase  \n",
    "\n",
    "<img src=\"https://python.langchain.com/assets/images/rag_indexing-8160f90a90a33253d0154659cf7d453f.png\" alt=\"Langchain Pipeline\" style=\"width:800px;\">  \n",
    "\n",
    "Now, let's work with a real codebase and index it. As an example, we'll use the [TEI-Client](https://github.com/LLukas22/tei-client) repository, which is small and easy to understand.  \n",
    "\n",
    "The code below clones the repository into the [`repo`](./repo/) folder. If you don’t have `git` installed, you can manually download the code from [GitHub](https://github.com/LLukas22/tei-client) and place it in the [`repo`](./repo/) directory.\n"
   ]
  },
  {
   "cell_type": "code",
   "execution_count": 10,
   "metadata": {},
   "outputs": [
    {
     "name": "stdout",
     "output_type": "stream",
     "text": [
      "Failed to clone repository: Cmd('git') failed due to: exit code(128)\n",
      "  cmdline: git clone -v -- https://github.com/LLukas22/tei-client.git ./repo\n",
      "  stderr: 'fatal: destination path './repo' already exists and is not an empty directory.\n",
      "'\n"
     ]
    }
   ],
   "source": [
    "from git import Repo\n",
    "from pathlib import Path\n",
    "\n",
    "repo_path = Path(\"repo\").resolve()\n",
    "if not repo_path.exists():\n",
    "    repo_path.mkdir(parents=True)\n",
    "\n",
    "repo_url = \"https://github.com/LLukas22/tei-client.git\"\n",
    "\n",
    "try:\n",
    "    Repo.clone_from(repo_url, \"./repo\")\n",
    "except Exception as e:\n",
    "    print(f\"Failed to clone repository: {e}\")"
   ]
  },
  {
   "cell_type": "markdown",
   "metadata": {},
   "source": [
    "### 3.1 Loading Code Files  \n",
    "\n",
    "Langchain provides utility functions to efficiently locate and load files as `Document` objects.  \n",
    "\n",
    "The following code demonstrates how to accomplish this:"
   ]
  },
  {
   "cell_type": "code",
   "execution_count": 11,
   "metadata": {},
   "outputs": [
    {
     "name": "stdout",
     "output_type": "stream",
     "text": [
      "________\n",
      "Source: D:\\GIT\\praxistage\\notebooks\\repo\\CI\\wait_for_server.py\n",
      "Characters: 683\n",
      "________\n",
      "Source: D:\\GIT\\praxistage\\notebooks\\repo\\tests\\test_grpc.py\n",
      "Characters: 4672\n",
      "________\n",
      "Source: D:\\GIT\\praxistage\\notebooks\\repo\\tests\\test_http.py\n",
      "Characters: 4863\n",
      "________\n",
      "Source: D:\\GIT\\praxistage\\notebooks\\repo\\tests\\__init__.py\n",
      "Characters: 209\n",
      "________\n",
      "Source: D:\\GIT\\praxistage\\notebooks\\repo\\src\\tei_client\\models.py\n",
      "Characters: 2670\n",
      "________\n",
      "Source: D:\\GIT\\praxistage\\notebooks\\repo\\src\\tei_client\\__about__.py\n",
      "Characters: 18\n",
      "________\n",
      "Source: D:\\GIT\\praxistage\\notebooks\\repo\\src\\tei_client\\__init__.py\n",
      "Characters: 479\n",
      "________\n",
      "Source: D:\\GIT\\praxistage\\notebooks\\repo\\src\\tei_client\\clients\\base.py\n",
      "Characters: 4709\n",
      "________\n",
      "Source: D:\\GIT\\praxistage\\notebooks\\repo\\src\\tei_client\\clients\\grpc_client.py\n",
      "Characters: 13660\n",
      "________\n",
      "Source: D:\\GIT\\praxistage\\notebooks\\repo\\src\\tei_client\\clients\\http_client.py\n",
      "Characters: 9199\n",
      "________\n",
      "Source: D:\\GIT\\praxistage\\notebooks\\repo\\src\\tei_client\\stubs\\tei_pb2.py\n",
      "Characters: 11018\n",
      "________\n",
      "Source: D:\\GIT\\praxistage\\notebooks\\repo\\src\\tei_client\\stubs\\tei_pb2_grpc.py\n",
      "Characters: 24324\n",
      "________\n",
      "Source: D:\\GIT\\praxistage\\notebooks\\repo\\src\\tei_client\\stubs\\__init__.py\n",
      "Characters: 0\n"
     ]
    }
   ],
   "source": [
    "from langchain_community.document_loaders.directory import DirectoryLoader\n",
    "from langchain_community.document_loaders.text import TextLoader\n",
    "\n",
    "loader = DirectoryLoader(repo_path, glob=\"**/*.py\", loader_cls=TextLoader)\n",
    "docs = loader.load()\n",
    "\n",
    "for doc in docs:\n",
    "    print(\"_\" * 8)\n",
    "    print(f\"Source: {doc.metadata[\"source\"]}\")\n",
    "    print(f\"Characters: {len(doc.page_content)}\")"
   ]
  },
  {
   "cell_type": "markdown",
   "metadata": {},
   "source": [
    "### 3.2 Challenges in Embedding Code  \n",
    "\n",
    "When adding code files to the vector store, we may encounter errors due to their large size. This happens because our embedding model has a token limit and cannot process documents exceeding that limit in a single pass.  \n",
    "\n",
    "To resolve this, we need to split our `Document` objects into smaller, manageable chunks before embedding them. This ensures that each chunk stays within the model's token constraints while preserving the overall structure and meaning of the code."
   ]
  },
  {
   "cell_type": "code",
   "execution_count": 12,
   "metadata": {},
   "outputs": [
    {
     "name": "stdout",
     "output_type": "stream",
     "text": [
      "Document exceeded the maximum context length\n"
     ]
    }
   ],
   "source": [
    "from ollama import ResponseError\n",
    "\n",
    "# This will fail if the document exceeds the maximum context length\n",
    "vector_store = create_vector_store()\n",
    "try:\n",
    "    ids = vector_store.add_documents(docs)\n",
    "except ResponseError as e:\n",
    "    if e.status_code == 500:\n",
    "        print(\"Document exceeded the maximum context length\")\n",
    "    else:\n",
    "        print(f\"Failed to add document: {e}\")"
   ]
  },
  {
   "cell_type": "markdown",
   "metadata": {},
   "source": [
    "### 3.3 Your Task: Properly Splitting and Indexing Code Files  \n",
    "\n",
    "To effectively store and search code files, we need to:  \n",
    "\n",
    "1. **Load the code files** using Langchain’s [`GenericLoader` and `LanguageParser`](https://python.langchain.com/docs/integrations/document_loaders/source_code/). These tools help extract structured information from source code files, making them easier to process.  \n",
    "\n",
    "2. **Split the files into manageable chunks** using [`RecursiveCharacterTextSplitter`](https://python.langchain.com/docs/integrations/document_loaders/source_code/#splitting). This ensures that each piece remains within the embedding model's token limit while maintaining logical code segments for meaningful retrieval.  \n",
    "\n",
    "By following this approach, we can efficiently index the codebase while preserving its readability and searchability.\n",
    "\n",
    "\n",
    "\n",
    "\n",
    "\n"
   ]
  },
  {
   "cell_type": "code",
   "execution_count": 13,
   "metadata": {},
   "outputs": [
    {
     "name": "stdout",
     "output_type": "stream",
     "text": [
      "Split into 245 documents!\n"
     ]
    }
   ],
   "source": [
    "from langchain_community.document_loaders.generic import GenericLoader\n",
    "from langchain_community.document_loaders.parsers import LanguageParser\n",
    "from langchain_text_splitters import (\n",
    "    Language,\n",
    "    RecursiveCharacterTextSplitter,\n",
    ")\n",
    "\n",
    "# Your code goes here\n",
    "loader = GenericLoader.from_filesystem(\n",
    "    repo_path,\n",
    "    glob=\"**/*.py\",\n",
    "    suffixes=[\".py\"],\n",
    "    parser=LanguageParser(language=Language.PYTHON, parser_threshold=1000),\n",
    ")\n",
    "docs = loader.load()\n",
    "\n",
    "splitter = RecursiveCharacterTextSplitter.from_language(\n",
    "    language=Language.PYTHON, chunk_size=512, chunk_overlap=0\n",
    ")\n",
    "\n",
    "docs = splitter.split_documents(docs)\n",
    "print(f\"Split into {len(docs)} documents!\")"
   ]
  },
  {
   "cell_type": "markdown",
   "metadata": {},
   "source": [
    "Now we should be able to add the documents to our vector store without problems."
   ]
  },
  {
   "cell_type": "code",
   "execution_count": 14,
   "metadata": {},
   "outputs": [
    {
     "name": "stdout",
     "output_type": "stream",
     "text": [
      "Added 245 documents!\n"
     ]
    }
   ],
   "source": [
    "vector_store = create_vector_store()\n",
    "try:\n",
    "    ids = vector_store.add_documents(docs)\n",
    "    print(f\"Added {len(ids)} documents!\")\n",
    "except ResponseError as e:\n",
    "    if e.status_code == 500:\n",
    "        print(\"Document exceeded the maximum context length\")\n",
    "    else:\n",
    "        print(f\"Failed to add document: {e}\")"
   ]
  },
  {
   "cell_type": "markdown",
   "metadata": {},
   "source": [
    "### 3.4 Searching the Codebase  \n",
    "\n",
    "With our codebase successfully indexed, we can now perform searches using the vector store. Let's test it with a few queries:  \n",
    "\n",
    "- **\"Where is the `embed` function implemented?\"**  \n",
    "- **\"How is reranking handled?\"**  \n",
    "- **\"How can I create a client?\"**  \n",
    "\n",
    "These queries should return the most relevant code snippets, making it easy to locate specific implementations within the codebase."
   ]
  },
  {
   "cell_type": "code",
   "execution_count": 15,
   "metadata": {},
   "outputs": [
    {
     "name": "stdout",
     "output_type": "stream",
     "text": [
      "----------\n",
      "* [SIM=0.516049]\n",
      "Content: def embed(\n",
      "\t\tself,\n",
      "\t\ttext: EmbeddingInput,\n",
      "\t\tnormalize: bool = True,\n",
      "\t\ttruncate: bool = False,\n",
      "\t\ttruncation_direction: TruncationDirection = TruncationDirection.Right,\n",
      "\t\tprompt_name: Optional[str] = None,\n",
      "\t) -> list[list[float]]:\n",
      "\t\tself._ensure_model_type(ModelType.Embedding)\n",
      "\n",
      "\t\tif isinstance(text, str):\n",
      "\t\t\ttext = [text]\n",
      "Metadata: {'source': 'D:\\\\GIT\\\\praxistage\\\\notebooks\\\\repo\\\\src\\\\tei_client\\\\clients\\\\grpc_client.py', 'language': <Language.PYTHON: 'python'>}]\n",
      "----------\n",
      "* [SIM=0.516049]\n",
      "Content: def embed(\n",
      "\t\tself,\n",
      "\t\ttext: EmbeddingInput,\n",
      "\t\tnormalize: bool = True,\n",
      "\t\ttruncate: bool = False,\n",
      "\t\ttruncation_direction: TruncationDirection = TruncationDirection.Right,\n",
      "\t\tprompt_name: Optional[str] = None,\n",
      "\t) -> list[list[float]]:\n",
      "\t\tself._ensure_model_type(ModelType.Embedding)\n",
      "\n",
      "\t\tif isinstance(text, str):\n",
      "\t\t\ttext = [text]\n",
      "Metadata: {'source': 'D:\\\\GIT\\\\praxistage\\\\notebooks\\\\repo\\\\src\\\\tei_client\\\\clients\\\\http_client.py', 'language': <Language.PYTHON: 'python'>}]\n",
      "----------\n",
      "* [SIM=0.519930]\n",
      "Content: class EmbedServicer(object):\n",
      "\t\"\"\"Missing associated documentation comment in .proto file.\"\"\"\n",
      "\n",
      "\tdef Embed(self, request, context):\n",
      "\t\t\"\"\"Missing associated documentation comment in .proto file.\"\"\"\n",
      "\t\tcontext.set_code(grpc.StatusCode.UNIMPLEMENTED)\n",
      "\t\tcontext.set_details(\"Method not implemented!\")\n",
      "\t\traise NotImplementedError(\"Method not implemented!\")\n",
      "Metadata: {'source': 'D:\\\\GIT\\\\praxistage\\\\notebooks\\\\repo\\\\src\\\\tei_client\\\\stubs\\\\tei_pb2_grpc.py', 'language': <Language.PYTHON: 'python'>}]\n",
      "----------\n",
      "* [SIM=0.531447]\n",
      "Content: def EmbedSparse(self, request, context):\n",
      "\t\t\"\"\"Missing associated documentation comment in .proto file.\"\"\"\n",
      "\t\tcontext.set_code(grpc.StatusCode.UNIMPLEMENTED)\n",
      "\t\tcontext.set_details(\"Method not implemented!\")\n",
      "\t\traise NotImplementedError(\"Method not implemented!\")\n",
      "Metadata: {'source': 'D:\\\\GIT\\\\praxistage\\\\notebooks\\\\repo\\\\src\\\\tei_client\\\\stubs\\\\tei_pb2_grpc.py', 'language': <Language.PYTHON: 'python'>}]\n",
      "----------\n",
      "* [SIM=0.542645]\n",
      "Content: def Embed(\n",
      "\t\trequest,\n",
      "\t\ttarget,\n",
      "\t\toptions=(),\n",
      "\t\tchannel_credentials=None,\n",
      "\t\tcall_credentials=None,\n",
      "\t\tinsecure=False,\n",
      "\t\tcompression=None,\n",
      "\t\twait_for_ready=None,\n",
      "\t\ttimeout=None,\n",
      "\t\tmetadata=None,\n",
      "\t):\n",
      "\t\treturn grpc.experimental.unary_unary(\n",
      "\t\t\trequest,\n",
      "\t\t\ttarget,\n",
      "\t\t\t\"/tei.v1.Embed/Embed\",\n",
      "\t\t\ttei__pb2.EmbedRequest.SerializeToString,\n",
      "\t\t\ttei__pb2.EmbedResponse.FromString,\n",
      "\t\t\toptions,\n",
      "\t\t\tchannel_credentials,\n",
      "\t\t\tinsecure,\n",
      "\t\t\tcall_credentials,\n",
      "\t\t\tcompression,\n",
      "\t\t\twait_for_ready,\n",
      "\t\t\ttimeout,\n",
      "\t\t\tmetadata,\n",
      "\t\t)\n",
      "Metadata: {'source': 'D:\\\\GIT\\\\praxistage\\\\notebooks\\\\repo\\\\src\\\\tei_client\\\\stubs\\\\tei_pb2_grpc.py', 'language': <Language.PYTHON: 'python'>}]\n"
     ]
    }
   ],
   "source": [
    "results = vector_store.similarity_search_with_score(\n",
    "    query=\"Where is the `embed` function implemented?\", k=5\n",
    ")\n",
    "for doc, score in results:\n",
    "    print(\"-\"*10)\n",
    "    print(f\"* [SIM={score:3f}]\")\n",
    "    print(f\"Content: {doc.page_content}\")\n",
    "    print(f\"Metadata: {doc.metadata}]\")"
   ]
  }
 ],
 "metadata": {
  "kernelspec": {
   "display_name": ".venv",
   "language": "python",
   "name": "python3"
  },
  "language_info": {
   "codemirror_mode": {
    "name": "ipython",
    "version": 3
   },
   "file_extension": ".py",
   "mimetype": "text/x-python",
   "name": "python",
   "nbconvert_exporter": "python",
   "pygments_lexer": "ipython3",
   "version": "3.12.7"
  }
 },
 "nbformat": 4,
 "nbformat_minor": 2
}
